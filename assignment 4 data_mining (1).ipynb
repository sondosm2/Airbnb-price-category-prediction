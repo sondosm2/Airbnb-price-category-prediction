{
 "cells": [
  {
   "cell_type": "markdown",
   "metadata": {},
   "source": [
    "# Problem Formulation\n",
    "when people prepare to post a new listing on airbnb is, how much should one ask for? Of course the most intuitive way is to check how other similar postings price their apartment/house. So in this assignment, we are going to predict the listing price based on the listing characteristics"
   ]
  },
  {
   "cell_type": "markdown",
   "metadata": {
    "id": "fGnGnkQ1xbSH"
   },
   "source": [
    "# **Why do we use sparse_categorical_crossentropy?**\n",
    "categorical_crossentropy (cce) produces a one-hot array containing the probable match for each category.\n",
    "\n",
    "we use sparse_categorical_crossentropy (scce) because it  produces a category index of the most likely matching category \n",
    "\n",
    "For example:In the case of cce, the one-hot target may be [0, 1, 0, 0, 0] and the model may predict [.2, .5, .1, .1, .1] (probably right)\n",
    "\n",
    "In the case of scce, the target index may be [1] and the model may predict: [.5]"
   ]
  },
  {
   "cell_type": "markdown",
   "metadata": {
    "id": "SDT9gUm_-e_n"
   },
   "source": [
    "# **Recurrent Neural Networks**\n",
    "\n",
    "In a recurrent neural network we store the output activations from one or more of the layers of the network. Often these are hidden later activations. Then, the next time we feed an input example to the network, we include the previously-stored outputs as additional inputs."
   ]
  },
  {
   "cell_type": "markdown",
   "metadata": {
    "id": "I_T-Pyiv-zrk"
   },
   "source": [
    "# **why do we use LSTM?**"
   ]
  },
  {
   "cell_type": "markdown",
   "metadata": {
    "id": "JatmTeTN-QHz"
   },
   "source": [
    "RNNs suffer from the problem of vanishing gradients. The gradients carry information used in the RNN, and when the gradient becomes too small, the parameter updates become insignificant. This makes the learning of long data sequences difficult. Instead, we use a better variation of RNNs: Long Short Term Networks(LSTM).\n",
    "\n"
   ]
  },
  {
   "cell_type": "markdown",
   "metadata": {},
   "source": [
    "# The input and output\n",
    "The input contains (summary\tand image)                       \n",
    "The output represents as two output (type and price)"
   ]
  },
  {
   "cell_type": "markdown",
   "metadata": {},
   "source": [
    "# What data mining function is required?\n",
    "predict function is the process of identifying the unavailable data for new observation based on the previous data and classification function to identify class label of new observation to which it belongs."
   ]
  },
  {
   "cell_type": "markdown",
   "metadata": {},
   "source": [
    "# why do we use dropout /SpatialDropout1D?\n",
    "- Dropout prevents overfitting ,Because the outputs of a layer under dropout are randomly subsampled, it has the effect of reducing the capacity or thinning the network during training.\n",
    "- SpatialDropout1D drops entire 1D feature maps instead of individual elements. If adjacent frames within feature maps are strongly correlated (as is normally the case in early convolution layers) then regular dropout will not regularize the activations and will otherwise just result in an effective learning rate decrease. In this case, SpatialDropout1D will help promote independence between feature maps and should be used instead."
   ]
  },
  {
   "cell_type": "markdown",
   "metadata": {},
   "source": [
    "# why do we use Bidirectional?\n",
    "Bidirectional recurrent neural networks (BRNN) connect two hidden layers of opposite directions to the same output. With this form of generative deep learning, the output layer can get information from past (backwards) and future (forward) states simultaneously.\n",
    "-Bidirectional LSTMs are an extension of traditional LSTMs that can improve model performance on sequence classification problems"
   ]
  },
  {
   "cell_type": "markdown",
   "metadata": {},
   "source": [
    "# What is the impact?\n",
    "performance in each trail dependence on text model and image model .\n",
    "The model uses Adam for tuning weights, sparse categorical cross-entropy loss, and sparse categorical accuracy for evaluation for both objectives. The loss with respect to each task is weighted equally when computing the overall loss of the model. We use the sparse version of these metrics as our categorical labels are integers instead of being one-hot encoded.\n",
    "The model is trained for 20 epochs with a batch size of 16 and a hold-out validation set of 20%. Early stopping is used to make training more efficient and to also prevent overfitting. Once training stops, the model is used to make predictions on the test set format them for submission. The submission only contains the price categories for each listing as per the assignment objective, despite the multi-objective approach."
   ]
  },
  {
   "cell_type": "markdown",
   "metadata": {},
   "source": [
    "# Ideal solution\n",
    "dependence in changes in each model but i see the model with embidding and averaged only gives accuracy= 0.68"
   ]
  },
  {
   "cell_type": "markdown",
   "metadata": {},
   "source": [
    "# importing libraries"
   ]
  },
  {
   "cell_type": "code",
   "execution_count": 1,
   "metadata": {
    "id": "a3af6ccb"
   },
   "outputs": [],
   "source": [
    "import os\n",
    "import pandas as pd\n",
    "from tqdm.notebook import tqdm\n",
    "from PIL import Image\n",
    "import pandas as pd\n",
    "import os\n",
    "import numpy as np\n",
    "from tensorflow.keras.preprocessing.text import Tokenizer\n",
    "from tensorflow.keras.preprocessing.sequence import pad_sequences\n",
    "from sklearn.model_selection import train_test_split\n",
    "from __future__ import absolute_import, division, print_function, unicode_literals\n",
    "import collections\n",
    "import matplotlib.pyplot as plt\n",
    "import numpy as np\n",
    "import tensorflow as tf\n",
    "from tensorflow import keras\n",
    "from tensorflow.keras.layers import Conv2D, Flatten, Dense, MaxPool2D,LSTM,SpatialDropout1D,Dropout,Bidirectional,Embedding,RNN,SimpleRNN\n",
    "from tensorflow.keras.optimizers import Adam\n",
    "from keras.models import Sequential\n"
   ]
  },
  {
   "cell_type": "markdown",
   "metadata": {},
   "source": [
    "# read data\n"
   ]
  },
  {
   "cell_type": "code",
   "execution_count": 2,
   "metadata": {
    "colab": {
     "base_uri": "https://localhost:8080/",
     "height": 423
    },
    "id": "fbad375c",
    "outputId": "cad89e58-cefe-458b-b2ba-3cc154a03f85"
   },
   "outputs": [
    {
     "data": {
      "text/html": [
       "<div>\n",
       "<style scoped>\n",
       "    .dataframe tbody tr th:only-of-type {\n",
       "        vertical-align: middle;\n",
       "    }\n",
       "\n",
       "    .dataframe tbody tr th {\n",
       "        vertical-align: top;\n",
       "    }\n",
       "\n",
       "    .dataframe thead th {\n",
       "        text-align: right;\n",
       "    }\n",
       "</style>\n",
       "<table border=\"1\" class=\"dataframe\">\n",
       "  <thead>\n",
       "    <tr style=\"text-align: right;\">\n",
       "      <th></th>\n",
       "      <th>summary</th>\n",
       "      <th>image</th>\n",
       "      <th>type</th>\n",
       "      <th>price</th>\n",
       "    </tr>\n",
       "  </thead>\n",
       "  <tbody>\n",
       "    <tr>\n",
       "      <th>0</th>\n",
       "      <td>Spacious, sunny and cozy modern apartment in t...</td>\n",
       "      <td>img_train/0.jpg</td>\n",
       "      <td>Apartment</td>\n",
       "      <td>1</td>\n",
       "    </tr>\n",
       "    <tr>\n",
       "      <th>1</th>\n",
       "      <td>Located in one of the most vibrant and accessi...</td>\n",
       "      <td>img_train/1.jpg</td>\n",
       "      <td>Apartment</td>\n",
       "      <td>0</td>\n",
       "    </tr>\n",
       "    <tr>\n",
       "      <th>2</th>\n",
       "      <td>Logement coquet et douillet à 10 minutes du ce...</td>\n",
       "      <td>img_train/2.jpg</td>\n",
       "      <td>Apartment</td>\n",
       "      <td>1</td>\n",
       "    </tr>\n",
       "    <tr>\n",
       "      <th>3</th>\n",
       "      <td>Beautiful and spacious (1076 sc ft, / 100 mc) ...</td>\n",
       "      <td>img_train/3.jpg</td>\n",
       "      <td>Apartment</td>\n",
       "      <td>1</td>\n",
       "    </tr>\n",
       "    <tr>\n",
       "      <th>4</th>\n",
       "      <td>Très grand appartement ''rustique'' et très ag...</td>\n",
       "      <td>img_train/4.jpg</td>\n",
       "      <td>Apartment</td>\n",
       "      <td>0</td>\n",
       "    </tr>\n",
       "    <tr>\n",
       "      <th>...</th>\n",
       "      <td>...</td>\n",
       "      <td>...</td>\n",
       "      <td>...</td>\n",
       "      <td>...</td>\n",
       "    </tr>\n",
       "    <tr>\n",
       "      <th>7622</th>\n",
       "      <td>Un grand logement 4 et 1/2, tout inclut, bien ...</td>\n",
       "      <td>img_train/7626.jpg</td>\n",
       "      <td>Apartment</td>\n",
       "      <td>0</td>\n",
       "    </tr>\n",
       "    <tr>\n",
       "      <th>7623</th>\n",
       "      <td>Magnificent condo directly on the river. You w...</td>\n",
       "      <td>img_train/7627.jpg</td>\n",
       "      <td>Apartment</td>\n",
       "      <td>2</td>\n",
       "    </tr>\n",
       "    <tr>\n",
       "      <th>7624</th>\n",
       "      <td>This apartment is perfect for anyone visiting ...</td>\n",
       "      <td>img_train/7628.jpg</td>\n",
       "      <td>Apartment</td>\n",
       "      <td>1</td>\n",
       "    </tr>\n",
       "    <tr>\n",
       "      <th>7625</th>\n",
       "      <td>It is a cozy ,clean ,and comfortable apartment...</td>\n",
       "      <td>img_train/7629.jpg</td>\n",
       "      <td>Apartment</td>\n",
       "      <td>0</td>\n",
       "    </tr>\n",
       "    <tr>\n",
       "      <th>7626</th>\n",
       "      <td>Modern country style (newly-renovated); open c...</td>\n",
       "      <td>img_train/7630.jpg</td>\n",
       "      <td>House</td>\n",
       "      <td>1</td>\n",
       "    </tr>\n",
       "  </tbody>\n",
       "</table>\n",
       "<p>7627 rows × 4 columns</p>\n",
       "</div>"
      ],
      "text/plain": [
       "                                                summary               image  \\\n",
       "0     Spacious, sunny and cozy modern apartment in t...     img_train/0.jpg   \n",
       "1     Located in one of the most vibrant and accessi...     img_train/1.jpg   \n",
       "2     Logement coquet et douillet à 10 minutes du ce...     img_train/2.jpg   \n",
       "3     Beautiful and spacious (1076 sc ft, / 100 mc) ...     img_train/3.jpg   \n",
       "4     Très grand appartement ''rustique'' et très ag...     img_train/4.jpg   \n",
       "...                                                 ...                 ...   \n",
       "7622  Un grand logement 4 et 1/2, tout inclut, bien ...  img_train/7626.jpg   \n",
       "7623  Magnificent condo directly on the river. You w...  img_train/7627.jpg   \n",
       "7624  This apartment is perfect for anyone visiting ...  img_train/7628.jpg   \n",
       "7625  It is a cozy ,clean ,and comfortable apartment...  img_train/7629.jpg   \n",
       "7626  Modern country style (newly-renovated); open c...  img_train/7630.jpg   \n",
       "\n",
       "           type  price  \n",
       "0     Apartment      1  \n",
       "1     Apartment      0  \n",
       "2     Apartment      1  \n",
       "3     Apartment      1  \n",
       "4     Apartment      0  \n",
       "...         ...    ...  \n",
       "7622  Apartment      0  \n",
       "7623  Apartment      2  \n",
       "7624  Apartment      1  \n",
       "7625  Apartment      0  \n",
       "7626      House      1  \n",
       "\n",
       "[7627 rows x 4 columns]"
      ]
     },
     "execution_count": 2,
     "metadata": {},
     "output_type": "execute_result"
    }
   ],
   "source": [
    "data_train=pd.read_csv('train_xy.csv')\n",
    "data_test=pd.read_csv('test_x.csv')\n",
    "data_train"
   ]
  },
  {
   "cell_type": "markdown",
   "metadata": {},
   "source": [
    "# Data exploration\n"
   ]
  },
  {
   "cell_type": "code",
   "execution_count": 3,
   "metadata": {},
   "outputs": [
    {
     "name": "stdout",
     "output_type": "stream",
     "text": [
      "<class 'pandas.core.frame.DataFrame'>\n",
      "RangeIndex: 7627 entries, 0 to 7626\n",
      "Data columns (total 4 columns):\n",
      " #   Column   Non-Null Count  Dtype \n",
      "---  ------   --------------  ----- \n",
      " 0   summary  7326 non-null   object\n",
      " 1   image    7627 non-null   object\n",
      " 2   type     7627 non-null   object\n",
      " 3   price    7627 non-null   int64 \n",
      "dtypes: int64(1), object(3)\n",
      "memory usage: 238.5+ KB\n"
     ]
    }
   ],
   "source": [
    "data_train.info() #display inforamtion of data"
   ]
  },
  {
   "cell_type": "code",
   "execution_count": 4,
   "metadata": {},
   "outputs": [
    {
     "name": "stdout",
     "output_type": "stream",
     "text": [
      "summary    301\n",
      "image        0\n",
      "type         0\n",
      "price        0\n",
      "dtype: int64\n",
      "id         0\n",
      "summary    0\n",
      "image      0\n",
      "dtype: int64\n"
     ]
    }
   ],
   "source": [
    "#check null value for every feature\n",
    "print(data_train.isnull().sum())\n",
    "print(data_test.isnull().sum())"
   ]
  },
  {
   "cell_type": "code",
   "execution_count": 5,
   "metadata": {},
   "outputs": [],
   "source": [
    "data_train.dropna(inplace=True) # drop null values"
   ]
  },
  {
   "cell_type": "code",
   "execution_count": 6,
   "metadata": {
    "id": "95fbb1f5"
   },
   "outputs": [],
   "source": [
    "#convert type into category type\n",
    "data_train['type'] = data_train.type.astype('category').cat.codes\n",
    "#display unique values on type column\n",
    "len_type = len(data_train.type.unique())\n",
    "#display unique values on price column\n",
    "len_price = len(data_train.price.unique())\n"
   ]
  },
  {
   "cell_type": "code",
   "execution_count": 7,
   "metadata": {
    "colab": {
     "base_uri": "https://localhost:8080/",
     "height": 49,
     "referenced_widgets": [
      "0c1271eae7cb4934bca6949108e9693d",
      "8f67bfca15bb41c89f70280f45bf01df",
      "426988bcad57411d97ab8d62a8ff33ae",
      "c08060a7a0784737bfcacb06e202aee7",
      "bf52723f45094ff684436eb5e40ec5a1",
      "07eafde1ea06491aa9f8d6dc1ecfd16c",
      "1c7ea9b00a2b4e59a55513f9c8d44777",
      "2f22be4d122c4d2d8b0bddcc8e466000",
      "38614e7a80664331b1d8264dd8cfb2b8",
      "cff1a2a630214bc1894243f08aa4cf0a",
      "02a185c0fbc943179e03470085fc2df6"
     ]
    },
    "id": "dd283a7c",
    "outputId": "4a7f622d-106c-4b0e-abf0-755e724c6158"
   },
   "outputs": [
    {
     "data": {
      "application/vnd.jupyter.widget-view+json": {
       "model_id": "c356a1f4e0794e5faf17d3e6fe3a5aea",
       "version_major": 2,
       "version_minor": 0
      },
      "text/plain": [
       "HBox(children=(HTML(value=''), FloatProgress(value=0.0, max=7326.0), HTML(value='')))"
      ]
     },
     "metadata": {},
     "output_type": "display_data"
    },
    {
     "name": "stdout",
     "output_type": "stream",
     "text": [
      "\n"
     ]
    }
   ],
   "source": [
    "#build function to read image and resize it and convert colours into black and white\n",
    "def load_image(file):\n",
    "    try:\n",
    "        image = Image.open(\n",
    "            file\n",
    "        ).convert('LA').resize((64, 64))\n",
    "        arr = np.array(image)\n",
    "    except:\n",
    "        arr = np.zeros((64, 64, 2))\n",
    "    return arr\n",
    "\n",
    "\n",
    "# loading images:\n",
    "#tqmd to display the progress of loading images\n",
    "x_train_image = np.array([load_image(i) for i in tqdm(data_train.image)])\n",
    "\n",
    "# loading summary: (force convert some of the non-string cell to string)\n",
    "x_train_text = data_train.summary.astype('str')\n",
    "\n",
    "# get type \n",
    "y_train_type = data_train.type\n",
    "\n",
    "# get price\n",
    "y_train_price = data_train.price"
   ]
  },
  {
   "cell_type": "markdown",
   "metadata": {},
   "source": [
    "# why we use Tokenizer?\n",
    "The Tokenizer class of Keras is used for vectorizing a text corpus. For this either, each text input is converted into integer sequence or a vector that has a coefficient for each token in the form of binary values"
   ]
  },
  {
   "cell_type": "code",
   "execution_count": 8,
   "metadata": {
    "colab": {
     "base_uri": "https://localhost:8080/"
    },
    "id": "bf5c5b75",
    "outputId": "0137826e-388f-4322-888f-e915693fff08"
   },
   "outputs": [
    {
     "data": {
      "text/plain": [
       "(7326, 200)"
      ]
     },
     "execution_count": 8,
     "metadata": {},
     "output_type": "execute_result"
    }
   ],
   "source": [
    "vocab_size = 40000\n",
    "max_len = 200\n",
    "tokenizer=Tokenizer(num_words=vocab_size)\n",
    "# build vocabulary from training set\n",
    "tokenizer.fit_on_texts(x_train_text)\n",
    "def _preprocess(list_of_text):\n",
    "    return pad_sequences(\n",
    "        tokenizer.texts_to_sequences(list_of_text),\n",
    "        maxlen=max_len,\n",
    "        padding='post', #Using `post` for padding will add the zeros at the end of the sequences. \n",
    "    )\n",
    "    \n",
    "\n",
    "# padding is done inside: \n",
    "x_train_text_id = _preprocess(x_train_text)\n",
    "x_train_text_id.shape"
   ]
  },
  {
   "cell_type": "code",
   "execution_count": 9,
   "metadata": {
    "colab": {
     "base_uri": "https://localhost:8080/",
     "height": 49,
     "referenced_widgets": [
      "9fccb439ee8c47618be76b959d67e9b9",
      "0dca648f9c314dd7bb4072224b721795",
      "9eb74a69a7c249f79a4f961e9edf7876",
      "2b3f235094bd43609a2daba9c0552e03",
      "3f7a76dc356e46129cf8247bf241ce04",
      "475f3f96a64b4f6190025009312b42d9",
      "d4eccd96866e4c92bc20609e200bb25d",
      "8cc2e69b7a3b47b09140d1ad3e5fef42",
      "484ed64b6b3e4673a7814189dce0a04d",
      "4e532ba29a944b94a94e3b5d08b764f9",
      "b88c53b42ed044aabbd2c8e61e8c48bc"
     ]
    },
    "id": "0ca6d627",
    "outputId": "ef94e40d-987e-42ae-94f9-b8f9e8b57709"
   },
   "outputs": [
    {
     "data": {
      "application/vnd.jupyter.widget-view+json": {
       "model_id": "d91a16c030364c079dc3ae2db44124c5",
       "version_major": 2,
       "version_minor": 0
      },
      "text/plain": [
       "HBox(children=(HTML(value=''), FloatProgress(value=0.0, max=7360.0), HTML(value='')))"
      ]
     },
     "metadata": {},
     "output_type": "display_data"
    },
    {
     "name": "stdout",
     "output_type": "stream",
     "text": [
      "\n"
     ]
    }
   ],
   "source": [
    "# loading images:\n",
    "x_test_image = np.array([load_image(i) for i in tqdm(data_test.image)])\n",
    "\n",
    "# loading overview: (force convert some of the non-string cell to string)\n",
    "x_test_text = _preprocess(data_test.summary.astype('str'))"
   ]
  },
  {
   "cell_type": "markdown",
   "metadata": {},
   "source": [
    "## make function to plot the result to see the overfitting"
   ]
  },
  {
   "cell_type": "code",
   "execution_count": 10,
   "metadata": {},
   "outputs": [],
   "source": [
    "def results_viz(history):\n",
    "\n",
    "  # generate a figure containing 3 plots displayed horizontally\n",
    "  fig, (ax1, ax2, ax3) = plt.subplots(1, 3, figsize=(12,4))\n",
    "  fig.suptitle('Model Results')\n",
    "  \n",
    "  # first we display the training price accuracy vs. the validation price accuracy\n",
    "  ax1.plot(history.history['price_sparse_categorical_accuracy'])\n",
    "  ax1.plot(history.history['val_price_sparse_categorical_accuracy'])\n",
    "  ax1.set_title('price accuracy')\n",
    "  ax1.set_ylabel('accuracy')\n",
    "  ax1.set_xlabel('epoch')\n",
    "  ax1.legend(['train_price', 'validation_price'], loc='upper left')\n",
    "\n",
    "  # same with the other specified accuracy metric, type accuracy\n",
    "  ax2.plot(history.history['type_sparse_categorical_accuracy'])\n",
    "  ax2.plot(history.history['val_type_sparse_categorical_accuracy'])\n",
    "  ax2.set_title('type accuracy')\n",
    "  ax2.set_ylabel('accuracy')\n",
    "  ax2.set_xlabel('epoch')\n",
    "  ax2.legend(['train_type', 'validation_type'], loc='upper left')\n",
    "\n",
    "  # on the last axis, we plot the training loss against the validation loss (w.r.t. price and type combined)\n",
    "  ax3.plot(history.history['loss'])\n",
    "  ax3.plot(history.history['val_loss'])\n",
    "  ax3.set_title('model loss')\n",
    "  ax3.set_ylabel('loss')\n",
    "  ax3.set_xlabel('epoch')\n",
    "  ax3.legend(['train', 'validation'], loc='upper left')\n",
    "\n",
    "  plt.show() # display the figure"
   ]
  },
  {
   "cell_type": "markdown",
   "metadata": {},
   "source": [
    "# Trial 1 RNN\n",
    "A Recurrent Neural Network is a type of neural network that contains loops, allowing information to be stored within the network, uses their reasoning from previous experiences to inform the upcoming events. \n",
    "### SpatialDropout1D\n",
    "performs the same function as Dropout, however, it drops entire 1D feature maps instead of individual elements.\n",
    "### max pooling layer\n",
    "is a pooling operation that calculates the maximum, or largest, value in each patch of each feature map.\n",
    "### Flatten layer\n",
    "To bring all levels of a multi-layered image down to one dimension."
   ]
  },
  {
   "cell_type": "code",
   "execution_count": 11,
   "metadata": {
    "colab": {
     "base_uri": "https://localhost:8080/",
     "height": 242
    },
    "id": "bea8073b",
    "outputId": "89276324-e430-416e-a1bb-45fdbcf5e880"
   },
   "outputs": [
    {
     "name": "stdout",
     "output_type": "stream",
     "text": [
      "Model: \"model\"\n",
      "__________________________________________________________________________________________________\n",
      " Layer (type)                   Output Shape         Param #     Connected to                     \n",
      "==================================================================================================\n",
      " input_1 (InputLayer)           [(None, 200)]        0           []                               \n",
      "                                                                                                  \n",
      " input_2 (InputLayer)           [(None, 64, 64, 2)]  0           []                               \n",
      "                                                                                                  \n",
      " embedding (Embedding)          (None, 200, 200)     8000000     ['input_1[0][0]']                \n",
      "                                                                                                  \n",
      " conv2d (Conv2D)                (None, 49, 49, 128)  65664       ['input_2[0][0]']                \n",
      "                                                                                                  \n",
      " spatial_dropout1d (SpatialDrop  (None, 200, 200)    0           ['embedding[0][0]']              \n",
      " out1D)                                                                                           \n",
      "                                                                                                  \n",
      " max_pooling2d (MaxPooling2D)   (None, 4, 4, 128)    0           ['conv2d[0][0]']                 \n",
      "                                                                                                  \n",
      " simple_rnn (SimpleRNN)         (None, 256)          116992      ['spatial_dropout1d[0][0]']      \n",
      "                                                                                                  \n",
      " flatten (Flatten)              (None, 2048)         0           ['max_pooling2d[0][0]']          \n",
      "                                                                                                  \n",
      " tf.concat (TFOpLambda)         (None, 2304)         0           ['simple_rnn[0][0]',             \n",
      "                                                                  'flatten[0][0]']                \n",
      "                                                                                                  \n",
      " price (Dense)                  (None, 3)            6915        ['tf.concat[0][0]']              \n",
      "                                                                                                  \n",
      " type (Dense)                   (None, 24)           55320       ['tf.concat[0][0]']              \n",
      "                                                                                                  \n",
      "==================================================================================================\n",
      "Total params: 8,244,891\n",
      "Trainable params: 8,244,891\n",
      "Non-trainable params: 0\n",
      "__________________________________________________________________________________________________\n"
     ]
    }
   ],
   "source": [
    "#define input text\n",
    "input_text=keras.Input(batch_shape=(None,max_len))\n",
    "#define input image\n",
    "input_image=keras.Input(batch_shape=(None,64,64,2))\n",
    "# text part\n",
    "# simple average of embedding.\n",
    "embedded = keras.layers.Embedding(tokenizer.num_words, 200,)(input_text)\n",
    "out1=SpatialDropout1D(0.3)(embedded)\n",
    "out=SimpleRNN(256,dropout=0.2)(out1)\n",
    "# image part \n",
    "# simple conv2d contains set of filters with size of filter\n",
    "cov = Conv2D(128, (16, 16))(input_image)\n",
    "pl = MaxPool2D((12, 12))(cov)\n",
    "flattened = Flatten()(pl)\n",
    "# fusion - combinig both\n",
    "fused = tf.concat([out, flattened], axis=-1)\n",
    "\n",
    "# multi-task learning (each is a multi-class classification)\n",
    "# one dense layer for each task\n",
    "p_type = Dense(len_type, activation='softmax', name='type')(fused)\n",
    "p_price = Dense(len_price, activation='softmax', name='price')(fused)\n",
    "\n",
    "\n",
    "# define model input/output using keys.\n",
    "model = keras.Model(\n",
    "    inputs={\n",
    "        'summary': input_text,\n",
    "        'image': input_image\n",
    "    },\n",
    "    outputs={\n",
    "        'type': p_type,\n",
    "        'price': p_price,\n",
    "    },\n",
    ")\n",
    "# compile model with optimizer, loss values for each task, loss \n",
    "# weights for each task.\n",
    "model.compile(\n",
    "    optimizer=Adam(),\n",
    "    loss={\n",
    "        'type': 'sparse_categorical_crossentropy',\n",
    "        'price': 'sparse_categorical_crossentropy',\n",
    "    },\n",
    "    loss_weights={\n",
    "        'type': 0.5,\n",
    "        'price': 0.5,       \n",
    "    },\n",
    "    metrics={\n",
    "        'type': ['SparseCategoricalAccuracy'],\n",
    "        'price': ['SparseCategoricalAccuracy'],\n",
    "    },\n",
    ")\n",
    "\n",
    "\n",
    "model.summary()"
   ]
  },
  {
   "cell_type": "code",
   "execution_count": 18,
   "metadata": {
    "id": "0133acef"
   },
   "outputs": [
    {
     "name": "stdout",
     "output_type": "stream",
     "text": [
      "Epoch 1/20\n",
      "382/382 [==============================] - 52s 135ms/step - loss: 0.9819 - price_loss: 0.8623 - type_loss: 1.1015 - price_sparse_categorical_accuracy: 0.6079 - type_sparse_categorical_accuracy: 0.7461 - val_loss: 0.9127 - val_price_loss: 0.8487 - val_type_loss: 0.9766 - val_price_sparse_categorical_accuracy: 0.6252 - val_type_sparse_categorical_accuracy: 0.7647\n",
      "Epoch 2/20\n",
      "382/382 [==============================] - 52s 137ms/step - loss: 0.9499 - price_loss: 0.8533 - type_loss: 1.0466 - price_sparse_categorical_accuracy: 0.6189 - type_sparse_categorical_accuracy: 0.7528 - val_loss: 0.9146 - val_price_loss: 0.8433 - val_type_loss: 0.9859 - val_price_sparse_categorical_accuracy: 0.6252 - val_type_sparse_categorical_accuracy: 0.7647\n",
      "Epoch 3/20\n",
      "382/382 [==============================] - 51s 134ms/step - loss: 0.9536 - price_loss: 0.8621 - type_loss: 1.0451 - price_sparse_categorical_accuracy: 0.6063 - type_sparse_categorical_accuracy: 0.7535 - val_loss: 0.9341 - val_price_loss: 0.8521 - val_type_loss: 1.0161 - val_price_sparse_categorical_accuracy: 0.6252 - val_type_sparse_categorical_accuracy: 0.7647\n",
      "Epoch 4/20\n",
      "382/382 [==============================] - 53s 139ms/step - loss: 0.9543 - price_loss: 0.8592 - type_loss: 1.0495 - price_sparse_categorical_accuracy: 0.6084 - type_sparse_categorical_accuracy: 0.7536 - val_loss: 0.9360 - val_price_loss: 0.8784 - val_type_loss: 0.9936 - val_price_sparse_categorical_accuracy: 0.5701 - val_type_sparse_categorical_accuracy: 0.7647\n",
      "Epoch 5/20\n",
      "382/382 [==============================] - 52s 136ms/step - loss: 0.9518 - price_loss: 0.8577 - type_loss: 1.0459 - price_sparse_categorical_accuracy: 0.6071 - type_sparse_categorical_accuracy: 0.7532 - val_loss: 0.9330 - val_price_loss: 0.8448 - val_type_loss: 1.0212 - val_price_sparse_categorical_accuracy: 0.6252 - val_type_sparse_categorical_accuracy: 0.7647\n",
      "Epoch 6/20\n",
      "382/382 [==============================] - 51s 133ms/step - loss: 0.9487 - price_loss: 0.8549 - type_loss: 1.0425 - price_sparse_categorical_accuracy: 0.6107 - type_sparse_categorical_accuracy: 0.7536 - val_loss: 0.9309 - val_price_loss: 0.8553 - val_type_loss: 1.0064 - val_price_sparse_categorical_accuracy: 0.6252 - val_type_sparse_categorical_accuracy: 0.7647\n",
      "Epoch 7/20\n",
      "382/382 [==============================] - 52s 135ms/step - loss: 0.9551 - price_loss: 0.8599 - type_loss: 1.0504 - price_sparse_categorical_accuracy: 0.6071 - type_sparse_categorical_accuracy: 0.7536 - val_loss: 0.9248 - val_price_loss: 0.8365 - val_type_loss: 1.0130 - val_price_sparse_categorical_accuracy: 0.6252 - val_type_sparse_categorical_accuracy: 0.7647\n",
      "Epoch 8/20\n",
      "382/382 [==============================] - 53s 138ms/step - loss: 0.9478 - price_loss: 0.8516 - type_loss: 1.0441 - price_sparse_categorical_accuracy: 0.6104 - type_sparse_categorical_accuracy: 0.7536 - val_loss: 0.9276 - val_price_loss: 0.8538 - val_type_loss: 1.0015 - val_price_sparse_categorical_accuracy: 0.6252 - val_type_sparse_categorical_accuracy: 0.7647\n",
      "Epoch 9/20\n",
      "382/382 [==============================] - 50s 132ms/step - loss: 0.9531 - price_loss: 0.8572 - type_loss: 1.0491 - price_sparse_categorical_accuracy: 0.6097 - type_sparse_categorical_accuracy: 0.7536 - val_loss: 0.9228 - val_price_loss: 0.8530 - val_type_loss: 0.9927 - val_price_sparse_categorical_accuracy: 0.6252 - val_type_sparse_categorical_accuracy: 0.7647\n",
      "Epoch 10/20\n",
      "382/382 [==============================] - 51s 135ms/step - loss: 0.9493 - price_loss: 0.8548 - type_loss: 1.0438 - price_sparse_categorical_accuracy: 0.6148 - type_sparse_categorical_accuracy: 0.7536 - val_loss: 0.9258 - val_price_loss: 0.8379 - val_type_loss: 1.0136 - val_price_sparse_categorical_accuracy: 0.6252 - val_type_sparse_categorical_accuracy: 0.7647\n",
      "Epoch 11/20\n",
      "382/382 [==============================] - 50s 132ms/step - loss: 0.9480 - price_loss: 0.8555 - type_loss: 1.0406 - price_sparse_categorical_accuracy: 0.6102 - type_sparse_categorical_accuracy: 0.7536 - val_loss: 0.9158 - val_price_loss: 0.8314 - val_type_loss: 1.0002 - val_price_sparse_categorical_accuracy: 0.6252 - val_type_sparse_categorical_accuracy: 0.7647\n",
      "Epoch 12/20\n",
      "382/382 [==============================] - 50s 131ms/step - loss: 0.9502 - price_loss: 0.8567 - type_loss: 1.0437 - price_sparse_categorical_accuracy: 0.6110 - type_sparse_categorical_accuracy: 0.7536 - val_loss: 0.9235 - val_price_loss: 0.8435 - val_type_loss: 1.0035 - val_price_sparse_categorical_accuracy: 0.6252 - val_type_sparse_categorical_accuracy: 0.7647\n",
      "Epoch 13/20\n",
      "382/382 [==============================] - 50s 131ms/step - loss: 0.9517 - price_loss: 0.8584 - type_loss: 1.0450 - price_sparse_categorical_accuracy: 0.6061 - type_sparse_categorical_accuracy: 0.7536 - val_loss: 0.9310 - val_price_loss: 0.8442 - val_type_loss: 1.0178 - val_price_sparse_categorical_accuracy: 0.6252 - val_type_sparse_categorical_accuracy: 0.7647\n",
      "Epoch 14/20\n",
      "382/382 [==============================] - 50s 131ms/step - loss: 0.9478 - price_loss: 0.8519 - type_loss: 1.0438 - price_sparse_categorical_accuracy: 0.6166 - type_sparse_categorical_accuracy: 0.7536 - val_loss: 0.9362 - val_price_loss: 0.8665 - val_type_loss: 1.0060 - val_price_sparse_categorical_accuracy: 0.4967 - val_type_sparse_categorical_accuracy: 0.7647\n",
      "Epoch 15/20\n",
      "382/382 [==============================] - 50s 131ms/step - loss: 0.9484 - price_loss: 0.8556 - type_loss: 1.0413 - price_sparse_categorical_accuracy: 0.6119 - type_sparse_categorical_accuracy: 0.7536 - val_loss: 0.9340 - val_price_loss: 0.8428 - val_type_loss: 1.0253 - val_price_sparse_categorical_accuracy: 0.6252 - val_type_sparse_categorical_accuracy: 0.7647\n",
      "Epoch 16/20\n",
      "382/382 [==============================] - 50s 131ms/step - loss: 0.9507 - price_loss: 0.8560 - type_loss: 1.0455 - price_sparse_categorical_accuracy: 0.6088 - type_sparse_categorical_accuracy: 0.7536 - val_loss: 0.9206 - val_price_loss: 0.8448 - val_type_loss: 0.9964 - val_price_sparse_categorical_accuracy: 0.6252 - val_type_sparse_categorical_accuracy: 0.7647\n"
     ]
    }
   ],
   "source": [
    "history = model.fit(\n",
    "    x={\n",
    "        'summary': x_train_text_id,\n",
    "        'image': x_train_image\n",
    "    },\n",
    "    y={\n",
    "        'type': y_train_type,\n",
    "        'price': y_train_price,\n",
    "    },\n",
    "    epochs=20,\n",
    "    batch_size=16,\n",
    "    validation_split=0.2,\n",
    "    callbacks=[\n",
    "        tf.keras.callbacks.EarlyStopping(monitor='val_price_loss', patience=5, )\n",
    "    ],\n",
    "    verbose=1\n",
    ")"
   ]
  },
  {
   "cell_type": "code",
   "execution_count": 19,
   "metadata": {
    "id": "b362720e"
   },
   "outputs": [
    {
     "name": "stdout",
     "output_type": "stream",
     "text": [
      "[[0.6340829  0.31203377 0.0538833 ]\n",
      " [0.6340829  0.3120338  0.0538833 ]\n",
      " [0.5394643  0.32986432 0.13067137]\n",
      " ...\n",
      " [0.59261346 0.36231926 0.04506723]\n",
      " [0.5926136  0.36231926 0.04506722]\n",
      " [0.5394643  0.32986432 0.13067137]]\n",
      "[[1.4180766e-04 7.2117007e-01 3.7707931e-03 ... 7.0584979e-04\n",
      "  3.1464662e-02 3.6464969e-04]\n",
      " [1.4180766e-04 7.2117007e-01 3.7707931e-03 ... 7.0584944e-04\n",
      "  3.1464662e-02 3.6464969e-04]\n",
      " [5.3227367e-03 7.1588719e-01 1.2214801e-02 ... 3.2086190e-04\n",
      "  1.9246442e-02 4.7395295e-03]\n",
      " ...\n",
      " [5.5423443e-04 6.8436277e-01 2.0238476e-02 ... 5.5521395e-04\n",
      "  2.6240198e-02 1.5180405e-03]\n",
      " [5.5423408e-04 6.8436265e-01 2.0238487e-02 ... 5.5521412e-04\n",
      "  2.6240204e-02 1.5180417e-03]\n",
      " [5.3227330e-03 7.1588737e-01 1.2214804e-02 ... 3.2086167e-04\n",
      "  1.9246439e-02 4.7395281e-03]]\n",
      "[0 0 0 ... 0 0 0]\n"
     ]
    }
   ],
   "source": [
    "y_predict = model.predict(\n",
    "    {\n",
    "        'summary': x_test_text,\n",
    "        'image': x_test_image\n",
    "    }\n",
    ")\n",
    "\n",
    "\n",
    "# probabilities\n",
    "price_predicted = y_predict['price']\n",
    "type_predicted=y_predict['type']\n",
    "print(price_predicted)\n",
    "print(type_predicted)\n",
    "# categories\n",
    "price_category_predicted = np.argmax(price_predicted, axis=1)\n",
    "print(price_category_predicted)\n"
   ]
  },
  {
   "cell_type": "code",
   "execution_count": 20,
   "metadata": {
    "id": "949ccf30"
   },
   "outputs": [],
   "source": [
    "d=pd.DataFrame(\n",
    "    {'id': data_test.id,\n",
    "     'price': price_category_predicted}\n",
    ").to_csv('sample_submission3333.csv', index=False)"
   ]
  },
  {
   "cell_type": "code",
   "execution_count": 21,
   "metadata": {},
   "outputs": [
    {
     "data": {
      "image/png": "[encoded data removed]",
      "text/plain": [
       "<Figure size 864x288 with 3 Axes>"
      ]
     },
     "metadata": {
      "needs_background": "light"
     },
     "output_type": "display_data"
    }
   ],
   "source": [
    "results_viz(history)"
   ]
  },
  {
   "cell_type": "markdown",
   "metadata": {},
   "source": [
    "### Test accuracy by using RNN in text data = 0.62038 in leaderboard . i will try to improve the performance by calculating reduce_mean  instead of RNN"
   ]
  },
  {
   "cell_type": "markdown",
   "metadata": {},
   "source": [
    "# Trial 2\n",
    "with embedding layer and one convolutional layer with max poolong and flatten layers\n",
    "#### averaged \n",
    "reduces input_tensor along the dimensions given in axis by computing the mean of elements across the dimensions in axis"
   ]
  },
  {
   "cell_type": "code",
   "execution_count": 22,
   "metadata": {},
   "outputs": [
    {
     "name": "stdout",
     "output_type": "stream",
     "text": [
      "Model: \"model_4\"\n",
      "__________________________________________________________________________________________________\n",
      " Layer (type)                   Output Shape         Param #     Connected to                     \n",
      "==================================================================================================\n",
      " input_4 (InputLayer)           [(None, 64, 64, 2)]  0           []                               \n",
      "                                                                                                  \n",
      " input_3 (InputLayer)           [(None, 200)]        0           []                               \n",
      "                                                                                                  \n",
      " conv2d_8 (Conv2D)              (None, 49, 49, 64)   32832       ['input_4[0][0]']                \n",
      "                                                                                                  \n",
      " embedding_2 (Embedding)        (None, 200, 200)     8000000     ['input_3[0][0]']                \n",
      "                                                                                                  \n",
      " max_pooling2d_8 (MaxPooling2D)  (None, 4, 4, 64)    0           ['conv2d_8[0][0]']               \n",
      "                                                                                                  \n",
      " tf.math.reduce_mean (TFOpLambd  (None, 200)         0           ['embedding_2[0][0]']            \n",
      " a)                                                                                               \n",
      "                                                                                                  \n",
      " flatten_5 (Flatten)            (None, 1024)         0           ['max_pooling2d_8[0][0]']        \n",
      "                                                                                                  \n",
      " tf.concat_5 (TFOpLambda)       (None, 1224)         0           ['tf.math.reduce_mean[0][0]',    \n",
      "                                                                  'flatten_5[0][0]']              \n",
      "                                                                                                  \n",
      " price (Dense)                  (None, 3)            3675        ['tf.concat_5[0][0]']            \n",
      "                                                                                                  \n",
      " type (Dense)                   (None, 24)           29400       ['tf.concat_5[0][0]']            \n",
      "                                                                                                  \n",
      "==================================================================================================\n",
      "Total params: 8,065,907\n",
      "Trainable params: 8,065,907\n",
      "Non-trainable params: 0\n",
      "__________________________________________________________________________________________________\n"
     ]
    }
   ],
   "source": [
    "embedded = keras.layers.Embedding(tokenizer.num_words, 200)(input_text)\n",
    "averaged = tf.reduce_mean(embedded, axis=1)\n",
    "# image part \n",
    "# simple conv2d\n",
    "cov = Conv2D(64, (16, 16))(input_image)\n",
    "pl = MaxPool2D((12, 12))(cov)\n",
    "flattened = Flatten()(pl)\n",
    "# fusion - combinig both\n",
    "fused = tf.concat([averaged, flattened], axis=-1)\n",
    "# multi-task learning (each is a multi-class classification)\n",
    "# one dense layer for each task\n",
    "p_type = Dense(len_type, activation='softmax', name='type')(fused)\n",
    "p_price = Dense(len_price, activation='softmax', name='price')(fused)\n",
    "\n",
    "\n",
    "# define model input/output using keys.\n",
    "model = keras.Model(\n",
    "    inputs={\n",
    "        'summary': input_text,\n",
    "        'image': input_image\n",
    "    },\n",
    "    outputs={\n",
    "        'type': p_type,\n",
    "        'price': p_price,\n",
    "    },\n",
    ")\n",
    "# compile model with optimizer, loss values for each task, loss \n",
    "# weights for each task.\n",
    "model.compile(\n",
    "    optimizer=Adam(),\n",
    "    loss={\n",
    "        'type': 'sparse_categorical_crossentropy',\n",
    "        'price': 'sparse_categorical_crossentropy',\n",
    "    },\n",
    "    loss_weights={\n",
    "        'type': 0.5,\n",
    "        'price': 0.5,       \n",
    "    },\n",
    "    metrics={\n",
    "        'type': ['SparseCategoricalAccuracy'],\n",
    "        'price': ['SparseCategoricalAccuracy'],\n",
    "    },\n",
    ")\n",
    "\n",
    "\n",
    "model.summary()"
   ]
  },
  {
   "cell_type": "code",
   "execution_count": 23,
   "metadata": {},
   "outputs": [
    {
     "name": "stdout",
     "output_type": "stream",
     "text": [
      "Epoch 1/20\n",
      "382/382 [==============================] - 30s 78ms/step - loss: 1.0024 - price_loss: 0.8493 - type_loss: 1.1555 - price_sparse_categorical_accuracy: 0.6183 - type_sparse_categorical_accuracy: 0.7505 - val_loss: 0.8894 - val_price_loss: 0.8142 - val_type_loss: 0.9646 - val_price_sparse_categorical_accuracy: 0.6252 - val_type_sparse_categorical_accuracy: 0.7647\n",
      "Epoch 2/20\n",
      "382/382 [==============================] - 30s 80ms/step - loss: 0.9024 - price_loss: 0.8034 - type_loss: 1.0013 - price_sparse_categorical_accuracy: 0.6284 - type_sparse_categorical_accuracy: 0.7536 - val_loss: 0.8554 - val_price_loss: 0.7717 - val_type_loss: 0.9392 - val_price_sparse_categorical_accuracy: 0.6507 - val_type_sparse_categorical_accuracy: 0.7647\n",
      "Epoch 3/20\n",
      "382/382 [==============================] - 30s 78ms/step - loss: 0.8556 - price_loss: 0.7481 - type_loss: 0.9631 - price_sparse_categorical_accuracy: 0.6628 - type_sparse_categorical_accuracy: 0.7536 - val_loss: 0.8256 - val_price_loss: 0.7374 - val_type_loss: 0.9137 - val_price_sparse_categorical_accuracy: 0.6586 - val_type_sparse_categorical_accuracy: 0.7647\n",
      "Epoch 4/20\n",
      "382/382 [==============================] - 30s 78ms/step - loss: 0.8068 - price_loss: 0.6954 - type_loss: 0.9183 - price_sparse_categorical_accuracy: 0.6960 - type_sparse_categorical_accuracy: 0.7546 - val_loss: 0.7956 - val_price_loss: 0.7145 - val_type_loss: 0.8767 - val_price_sparse_categorical_accuracy: 0.6861 - val_type_sparse_categorical_accuracy: 0.7654\n",
      "Epoch 5/20\n",
      "382/382 [==============================] - 30s 78ms/step - loss: 0.7622 - price_loss: 0.6548 - type_loss: 0.8696 - price_sparse_categorical_accuracy: 0.7158 - type_sparse_categorical_accuracy: 0.7573 - val_loss: 0.7811 - val_price_loss: 0.7013 - val_type_loss: 0.8608 - val_price_sparse_categorical_accuracy: 0.6881 - val_type_sparse_categorical_accuracy: 0.7680\n",
      "Epoch 6/20\n",
      "382/382 [==============================] - 30s 78ms/step - loss: 0.7201 - price_loss: 0.6187 - type_loss: 0.8215 - price_sparse_categorical_accuracy: 0.7414 - type_sparse_categorical_accuracy: 0.7615 - val_loss: 0.7595 - val_price_loss: 0.6944 - val_type_loss: 0.8246 - val_price_sparse_categorical_accuracy: 0.6940 - val_type_sparse_categorical_accuracy: 0.7739\n",
      "Epoch 7/20\n",
      "382/382 [==============================] - 30s 78ms/step - loss: 0.6809 - price_loss: 0.5872 - type_loss: 0.7746 - price_sparse_categorical_accuracy: 0.7561 - type_sparse_categorical_accuracy: 0.7743 - val_loss: 0.7546 - val_price_loss: 0.6963 - val_type_loss: 0.8129 - val_price_sparse_categorical_accuracy: 0.6999 - val_type_sparse_categorical_accuracy: 0.7772\n",
      "Epoch 8/20\n",
      "382/382 [==============================] - 30s 78ms/step - loss: 0.6445 - price_loss: 0.5576 - type_loss: 0.7315 - price_sparse_categorical_accuracy: 0.7717 - type_sparse_categorical_accuracy: 0.7859 - val_loss: 0.7506 - val_price_loss: 0.6998 - val_type_loss: 0.8014 - val_price_sparse_categorical_accuracy: 0.6992 - val_type_sparse_categorical_accuracy: 0.7811\n",
      "Epoch 9/20\n",
      "382/382 [==============================] - 30s 78ms/step - loss: 0.6119 - price_loss: 0.5337 - type_loss: 0.6901 - price_sparse_categorical_accuracy: 0.7854 - type_sparse_categorical_accuracy: 0.7982 - val_loss: 0.7506 - val_price_loss: 0.7148 - val_type_loss: 0.7863 - val_price_sparse_categorical_accuracy: 0.6848 - val_type_sparse_categorical_accuracy: 0.7877\n",
      "Epoch 10/20\n",
      "382/382 [==============================] - 30s 77ms/step - loss: 0.5792 - price_loss: 0.5078 - type_loss: 0.6505 - price_sparse_categorical_accuracy: 0.7989 - type_sparse_categorical_accuracy: 0.8123 - val_loss: 0.7386 - val_price_loss: 0.7036 - val_type_loss: 0.7735 - val_price_sparse_categorical_accuracy: 0.6999 - val_type_sparse_categorical_accuracy: 0.7929\n",
      "Epoch 11/20\n",
      "382/382 [==============================] - 30s 78ms/step - loss: 0.5489 - price_loss: 0.4830 - type_loss: 0.6148 - price_sparse_categorical_accuracy: 0.8100 - type_sparse_categorical_accuracy: 0.8233 - val_loss: 0.7343 - val_price_loss: 0.7112 - val_type_loss: 0.7575 - val_price_sparse_categorical_accuracy: 0.6927 - val_type_sparse_categorical_accuracy: 0.7903\n"
     ]
    }
   ],
   "source": [
    "history = model.fit(\n",
    "    x={\n",
    "        'summary': x_train_text_id,\n",
    "        'image': x_train_image\n",
    "    },\n",
    "    y={\n",
    "        'type': y_train_type,\n",
    "        'price': y_train_price,\n",
    "    },\n",
    "    epochs=20,\n",
    "    batch_size=16,\n",
    "    validation_split=0.2,\n",
    "    callbacks=[\n",
    "        tf.keras.callbacks.EarlyStopping(monitor='val_price_loss', patience=5, )\n",
    "    ],\n",
    "    verbose=1\n",
    ")"
   ]
  },
  {
   "cell_type": "code",
   "execution_count": 24,
   "metadata": {},
   "outputs": [
    {
     "name": "stdout",
     "output_type": "stream",
     "text": [
      "[[0.7589336  0.1973845  0.04368188]\n",
      " [0.9809186  0.01623425 0.00284717]\n",
      " [0.952564   0.03420074 0.01323519]\n",
      " ...\n",
      " [0.76138055 0.21263988 0.02597957]\n",
      " [0.9876938  0.00909953 0.00320672]\n",
      " [0.770472   0.20534714 0.02418081]]\n",
      "[0 0 0 ... 0 0 0]\n"
     ]
    }
   ],
   "source": [
    "y_predict = model.predict(\n",
    "    {\n",
    "        'summary': x_test_text,\n",
    "        'image': x_test_image\n",
    "    }\n",
    ")\n",
    "\n",
    "\n",
    "# probabilities\n",
    "price_predicted = y_predict['price']\n",
    "type_predicted=y_predict['type']\n",
    "print(price_predicted)\n",
    "\n",
    "# categories\n",
    "price_category_predicted = np.argmax(price_predicted, axis=1)\n",
    "print(price_category_predicted)\n"
   ]
  },
  {
   "cell_type": "code",
   "execution_count": 25,
   "metadata": {},
   "outputs": [],
   "source": [
    "d=pd.DataFrame(\n",
    "    {'id': data_test.id,\n",
    "     'price': price_category_predicted}\n",
    ").to_csv('sample_submission11.csv', index=False)"
   ]
  },
  {
   "cell_type": "code",
   "execution_count": 26,
   "metadata": {},
   "outputs": [
    {
     "data": {
      "image/png": "[encoded data removed]",
      "text/plain": [
       "<Figure size 864x288 with 3 Axes>"
      ]
     },
     "metadata": {
      "needs_background": "light"
     },
     "output_type": "display_data"
    }
   ],
   "source": [
    "results_viz(history)"
   ]
  },
  {
   "cell_type": "markdown",
   "metadata": {},
   "source": [
    "### Test accuracy = 0.68 which is more than accuracy in trail 1 \n",
    "### as we see ,it improves the accuracy"
   ]
  },
  {
   "cell_type": "markdown",
   "metadata": {},
   "source": [
    "# Trial 3 LSTM"
   ]
  },
  {
   "cell_type": "markdown",
   "metadata": {},
   "source": [
    "#### i will try to use LSTM layer to prevent vanishing gradients"
   ]
  },
  {
   "cell_type": "code",
   "execution_count": 10,
   "metadata": {},
   "outputs": [
    {
     "name": "stdout",
     "output_type": "stream",
     "text": [
      "Model: \"model_1\"\n",
      "__________________________________________________________________________________________________\n",
      " Layer (type)                   Output Shape         Param #     Connected to                     \n",
      "==================================================================================================\n",
      " input_1 (InputLayer)           [(None, 200)]        0           []                               \n",
      "                                                                                                  \n",
      " input_2 (InputLayer)           [(None, 64, 64, 2)]  0           []                               \n",
      "                                                                                                  \n",
      " embedding_2 (Embedding)        (None, 200, 200)     8000000     ['input_1[0][0]']                \n",
      "                                                                                                  \n",
      " conv2d_1 (Conv2D)              (None, 49, 49, 64)   32832       ['input_2[0][0]']                \n",
      "                                                                                                  \n",
      " spatial_dropout1d_1 (SpatialDr  (None, 200, 200)    0           ['embedding_2[0][0]']            \n",
      " opout1D)                                                                                         \n",
      "                                                                                                  \n",
      " max_pooling2d_1 (MaxPooling2D)  (None, 4, 4, 64)    0           ['conv2d_1[0][0]']               \n",
      "                                                                                                  \n",
      " lstm (LSTM)                    (None, 256)          467968      ['spatial_dropout1d_1[0][0]']    \n",
      "                                                                                                  \n",
      " flatten_1 (Flatten)            (None, 1024)         0           ['max_pooling2d_1[0][0]']        \n",
      "                                                                                                  \n",
      " tf.concat_1 (TFOpLambda)       (None, 1280)         0           ['lstm[0][0]',                   \n",
      "                                                                  'flatten_1[0][0]']              \n",
      "                                                                                                  \n",
      " price (Dense)                  (None, 3)            3843        ['tf.concat_1[0][0]']            \n",
      "                                                                                                  \n",
      " type (Dense)                   (None, 24)           30744       ['tf.concat_1[0][0]']            \n",
      "                                                                                                  \n",
      "==================================================================================================\n",
      "Total params: 8,535,387\n",
      "Trainable params: 8,535,387\n",
      "Non-trainable params: 0\n",
      "__________________________________________________________________________________________________\n"
     ]
    }
   ],
   "source": [
    "out=SpatialDropout1D(0.2)(embedded)\n",
    "out=LSTM(256,dropout=0.2)(out)\n",
    "# image part \n",
    "# simple conv2d\n",
    "cov = Conv2D(64, (16, 16))(input_image)\n",
    "# add max pooling layer\n",
    "pl = MaxPool2D((12, 12))(cov)\n",
    "#add flatten layer\n",
    "flattened = Flatten()(pl)\n",
    "\n",
    "# fusion - combinig both\n",
    "fused = tf.concat([out, flattened], axis=-1)\n",
    "\n",
    "# multi-task learning (each is a multi-class classification)\n",
    "# one dense layer for each task\n",
    "p_type = Dense(len_type, activation='softmax', name='type')(fused)\n",
    "p_price = Dense(len_price, activation='softmax', name='price')(fused)\n",
    "\n",
    "\n",
    "# define model input/output using keys.\n",
    "model = keras.Model(\n",
    "    inputs={\n",
    "        'summary': input_text,\n",
    "        'image': input_image\n",
    "    },\n",
    "    outputs={\n",
    "        'type': p_type,\n",
    "        'price': p_price,\n",
    "    },\n",
    ")\n",
    "# compile model with optimizer, loss values for each task, loss \n",
    "# weights for each task.\n",
    "model.compile(\n",
    "    optimizer=Adam(),\n",
    "    loss={\n",
    "        'type': 'sparse_categorical_crossentropy',\n",
    "        'price': 'sparse_categorical_crossentropy',\n",
    "    },\n",
    "    loss_weights={\n",
    "        'type': 0.5,\n",
    "        'price': 0.5,       \n",
    "    },\n",
    "    metrics={\n",
    "        'type': ['SparseCategoricalAccuracy'],\n",
    "        'price': ['SparseCategoricalAccuracy'],\n",
    "    },\n",
    ")\n",
    "\n",
    "\n",
    "model.summary()"
   ]
  },
  {
   "cell_type": "code",
   "execution_count": 11,
   "metadata": {},
   "outputs": [
    {
     "name": "stdout",
     "output_type": "stream",
     "text": [
      "Epoch 1/20\n",
      "382/382 [==============================] - 94s 241ms/step - loss: 0.9596 - price_loss: 0.8524 - type_loss: 1.0667 - price_sparse_categorical_accuracy: 0.6110 - type_sparse_categorical_accuracy: 0.7518 - val_loss: 0.9146 - val_price_loss: 0.8499 - val_type_loss: 0.9793 - val_price_sparse_categorical_accuracy: 0.6252 - val_type_sparse_categorical_accuracy: 0.7647\n",
      "Epoch 2/20\n",
      "382/382 [==============================] - 90s 236ms/step - loss: 0.9344 - price_loss: 0.8435 - type_loss: 1.0253 - price_sparse_categorical_accuracy: 0.6201 - type_sparse_categorical_accuracy: 0.7536 - val_loss: 0.9025 - val_price_loss: 0.8313 - val_type_loss: 0.9736 - val_price_sparse_categorical_accuracy: 0.6252 - val_type_sparse_categorical_accuracy: 0.7647\n",
      "Epoch 3/20\n",
      "382/382 [==============================] - 94s 247ms/step - loss: 0.9328 - price_loss: 0.8420 - type_loss: 1.0236 - price_sparse_categorical_accuracy: 0.6201 - type_sparse_categorical_accuracy: 0.7536 - val_loss: 0.9134 - val_price_loss: 0.8328 - val_type_loss: 0.9940 - val_price_sparse_categorical_accuracy: 0.6252 - val_type_sparse_categorical_accuracy: 0.7647\n",
      "Epoch 4/20\n",
      "382/382 [==============================] - 93s 244ms/step - loss: 0.9312 - price_loss: 0.8402 - type_loss: 1.0221 - price_sparse_categorical_accuracy: 0.6201 - type_sparse_categorical_accuracy: 0.7536 - val_loss: 0.9147 - val_price_loss: 0.8378 - val_type_loss: 0.9916 - val_price_sparse_categorical_accuracy: 0.6252 - val_type_sparse_categorical_accuracy: 0.7647\n",
      "Epoch 5/20\n",
      "382/382 [==============================] - 92s 240ms/step - loss: 0.9333 - price_loss: 0.8426 - type_loss: 1.0239 - price_sparse_categorical_accuracy: 0.6201 - type_sparse_categorical_accuracy: 0.7536 - val_loss: 0.9078 - val_price_loss: 0.8380 - val_type_loss: 0.9776 - val_price_sparse_categorical_accuracy: 0.6252 - val_type_sparse_categorical_accuracy: 0.7647\n",
      "Epoch 6/20\n",
      "382/382 [==============================] - 94s 246ms/step - loss: 0.9318 - price_loss: 0.8399 - type_loss: 1.0238 - price_sparse_categorical_accuracy: 0.6201 - type_sparse_categorical_accuracy: 0.7536 - val_loss: 0.9078 - val_price_loss: 0.8317 - val_type_loss: 0.9839 - val_price_sparse_categorical_accuracy: 0.6252 - val_type_sparse_categorical_accuracy: 0.7647\n",
      "Epoch 7/20\n",
      "382/382 [==============================] - 94s 247ms/step - loss: 0.9312 - price_loss: 0.8404 - type_loss: 1.0219 - price_sparse_categorical_accuracy: 0.6201 - type_sparse_categorical_accuracy: 0.7536 - val_loss: 0.9042 - val_price_loss: 0.8335 - val_type_loss: 0.9748 - val_price_sparse_categorical_accuracy: 0.6252 - val_type_sparse_categorical_accuracy: 0.7647\n"
     ]
    }
   ],
   "source": [
    "history = model.fit(\n",
    "    x={\n",
    "        'summary': x_train_text_id,\n",
    "        'image': x_train_image\n",
    "    },\n",
    "    y={\n",
    "        'type': y_train_type,\n",
    "        'price': y_train_price,\n",
    "    },\n",
    "    epochs=20,\n",
    "    batch_size=16,\n",
    "    validation_split=0.2,\n",
    "    callbacks=[\n",
    "        tf.keras.callbacks.EarlyStopping(monitor='val_price_loss', patience=5, )\n",
    "    ],\n",
    "    verbose=1\n",
    ")"
   ]
  },
  {
   "cell_type": "code",
   "execution_count": 12,
   "metadata": {},
   "outputs": [
    {
     "name": "stdout",
     "output_type": "stream",
     "text": [
      "[[0.6029982  0.3425658  0.05443592]\n",
      " [0.6029982  0.34256583 0.05443592]\n",
      " [0.6029982  0.3425658  0.0544359 ]\n",
      " ...\n",
      " [0.6029982  0.3425658  0.0544359 ]\n",
      " [0.6029982  0.3425658  0.05443592]\n",
      " [0.6029982  0.3425658  0.0544359 ]]\n",
      "[0 0 0 ... 0 0 0]\n"
     ]
    }
   ],
   "source": [
    "y_predict = model.predict(\n",
    "    {\n",
    "        'summary': x_test_text,\n",
    "        'image': x_test_image\n",
    "    }\n",
    ")\n",
    "\n",
    "\n",
    "# probabilities\n",
    "price_predicted = y_predict['price']\n",
    "type_predicted=y_predict['type']\n",
    "print(price_predicted)\n",
    "# categories\n",
    "price_category_predicted = np.argmax(price_predicted, axis=1)\n",
    "print(price_category_predicted)"
   ]
  },
  {
   "cell_type": "code",
   "execution_count": 13,
   "metadata": {},
   "outputs": [],
   "source": [
    "d=pd.DataFrame(\n",
    "    {'id': data_test.id,\n",
    "     'price': price_category_predicted}\n",
    ").to_csv('sample_submissionLSTM.csv', index=False)"
   ]
  },
  {
   "cell_type": "markdown",
   "metadata": {},
   "source": [
    "### test accuracy is decreased to 0.62038\n",
    "### i will try to use bidirectional layer "
   ]
  },
  {
   "cell_type": "markdown",
   "metadata": {
    "id": "FltgYEyepXQZ"
   },
   "source": [
    "# **Trial 4 by using two BiDirectional layer**"
   ]
  },
  {
   "cell_type": "markdown",
   "metadata": {
    "id": "vP2xue0ApCCV"
   },
   "source": [
    "Bidirectional recurrent neural networks (BRNN) connect two hidden layers of opposite directions to the same output. With this form of generative deep learning, the output layer can get information from past (backwards) and future (forward) states simultaneously"
   ]
  },
  {
   "cell_type": "code",
   "execution_count": 27,
   "metadata": {
    "colab": {
     "base_uri": "https://localhost:8080/"
    },
    "id": "0d723413",
    "outputId": "4a60e118-9f07-45d0-f91c-11323af5c1cf"
   },
   "outputs": [
    {
     "name": "stdout",
     "output_type": "stream",
     "text": [
      "Model: \"model_5\"\n",
      "__________________________________________________________________________________________________\n",
      " Layer (type)                   Output Shape         Param #     Connected to                     \n",
      "==================================================================================================\n",
      " input_3 (InputLayer)           [(None, 200)]        0           []                               \n",
      "                                                                                                  \n",
      " input_4 (InputLayer)           [(None, 64, 64, 2)]  0           []                               \n",
      "                                                                                                  \n",
      " embedding_2 (Embedding)        (None, 200, 200)     8000000     ['input_3[0][0]']                \n",
      "                                                                                                  \n",
      " conv2d_9 (Conv2D)              (None, 49, 49, 64)   32832       ['input_4[0][0]']                \n",
      "                                                                                                  \n",
      " bidirectional_3 (Bidirectional  (None, 200, 300)    421200      ['embedding_2[0][0]']            \n",
      " )                                                                                                \n",
      "                                                                                                  \n",
      " max_pooling2d_9 (MaxPooling2D)  (None, 4, 4, 64)    0           ['conv2d_9[0][0]']               \n",
      "                                                                                                  \n",
      " bidirectional_4 (Bidirectional  (None, 300)         541200      ['bidirectional_3[0][0]']        \n",
      " )                                                                                                \n",
      "                                                                                                  \n",
      " flatten_6 (Flatten)            (None, 1024)         0           ['max_pooling2d_9[0][0]']        \n",
      "                                                                                                  \n",
      " tf.concat_6 (TFOpLambda)       (None, 1324)         0           ['bidirectional_4[0][0]',        \n",
      "                                                                  'flatten_6[0][0]']              \n",
      "                                                                                                  \n",
      " price (Dense)                  (None, 3)            3975        ['tf.concat_6[0][0]']            \n",
      "                                                                                                  \n",
      " type (Dense)                   (None, 24)           31800       ['tf.concat_6[0][0]']            \n",
      "                                                                                                  \n",
      "==================================================================================================\n",
      "Total params: 9,031,007\n",
      "Trainable params: 9,031,007\n",
      "Non-trainable params: 0\n",
      "__________________________________________________________________________________________________\n"
     ]
    }
   ],
   "source": [
    "#text part\n",
    "out=Bidirectional(LSTM(150, return_sequences=True))(embedded) \n",
    "out=Bidirectional(LSTM(150))(out)\n",
    "# image part \n",
    "# simple conv2d. you can change it to anything else as needed\n",
    "cov = Conv2D(64, (16, 16))(input_image)\n",
    "pl = MaxPool2D((12, 12))(cov)\n",
    "flattened = Flatten()(pl)\n",
    "\n",
    "# fusion - combinig both\n",
    "fused = tf.concat([out, flattened], axis=-1)\n",
    "\n",
    "# multi-task learning (each is a multi-class classification)\n",
    "# one dense layer for each task\n",
    "p_type = Dense(len_type, activation='softmax', name='type')(fused)\n",
    "p_price = Dense(len_price, activation='softmax', name='price')(fused)\n",
    "\n",
    "\n",
    "# define model input/output using keys.\n",
    "model = keras.Model(\n",
    "    inputs={\n",
    "        'summary': input_text,\n",
    "        'image': input_image\n",
    "    },\n",
    "    outputs={\n",
    "        'type': p_type,\n",
    "        'price': p_price,\n",
    "    },\n",
    ")\n",
    "# compile model with optimizer, loss values for each task, loss \n",
    "# weights for each task.\n",
    "model.compile(\n",
    "    optimizer=Adam(learning_rate=0.001),\n",
    "    \n",
    "    loss={\n",
    "        'type': 'sparse_categorical_crossentropy',\n",
    "        'price': 'sparse_categorical_crossentropy',\n",
    "    },\n",
    "    metrics={\n",
    "        'type': ['SparseCategoricalAccuracy'],\n",
    "        'price': ['SparseCategoricalAccuracy'],\n",
    "    },\n",
    ")\n",
    "\n",
    "\n",
    "model.summary()"
   ]
  },
  {
   "cell_type": "code",
   "execution_count": 28,
   "metadata": {
    "colab": {
     "base_uri": "https://localhost:8080/"
    },
    "id": "OQzZB1aksn52",
    "outputId": "ec4f20f0-5826-4bf1-fdec-0985df2780af"
   },
   "outputs": [
    {
     "name": "stdout",
     "output_type": "stream",
     "text": [
      "Epoch 1/20\n",
      "382/382 [==============================] - 143s 364ms/step - loss: 1.3531 - price_loss: 0.5894 - type_loss: 0.7636 - price_sparse_categorical_accuracy: 0.7617 - type_sparse_categorical_accuracy: 0.7981 - val_loss: 1.7406 - val_price_loss: 0.8904 - val_type_loss: 0.8501 - val_price_sparse_categorical_accuracy: 0.6507 - val_type_sparse_categorical_accuracy: 0.7674\n",
      "Epoch 2/20\n",
      "382/382 [==============================] - 141s 369ms/step - loss: 1.0490 - price_loss: 0.4806 - type_loss: 0.5684 - price_sparse_categorical_accuracy: 0.8120 - type_sparse_categorical_accuracy: 0.8446 - val_loss: 1.6520 - val_price_loss: 0.7799 - val_type_loss: 0.8722 - val_price_sparse_categorical_accuracy: 0.6828 - val_type_sparse_categorical_accuracy: 0.7805\n",
      "Epoch 3/20\n",
      "382/382 [==============================] - 136s 357ms/step - loss: 0.9068 - price_loss: 0.4312 - type_loss: 0.4756 - price_sparse_categorical_accuracy: 0.8302 - type_sparse_categorical_accuracy: 0.8636 - val_loss: 1.7661 - val_price_loss: 0.8578 - val_type_loss: 0.9083 - val_price_sparse_categorical_accuracy: 0.6855 - val_type_sparse_categorical_accuracy: 0.7864\n",
      "Epoch 4/20\n",
      "382/382 [==============================] - 135s 355ms/step - loss: 0.7902 - price_loss: 0.3750 - type_loss: 0.4152 - price_sparse_categorical_accuracy: 0.8548 - type_sparse_categorical_accuracy: 0.8815 - val_loss: 1.8394 - val_price_loss: 0.8746 - val_type_loss: 0.9648 - val_price_sparse_categorical_accuracy: 0.6651 - val_type_sparse_categorical_accuracy: 0.7379\n",
      "Epoch 5/20\n",
      "382/382 [==============================] - 136s 355ms/step - loss: 0.6840 - price_loss: 0.3298 - type_loss: 0.3542 - price_sparse_categorical_accuracy: 0.8756 - type_sparse_categorical_accuracy: 0.8997 - val_loss: 2.0177 - val_price_loss: 1.0354 - val_type_loss: 0.9822 - val_price_sparse_categorical_accuracy: 0.6651 - val_type_sparse_categorical_accuracy: 0.7588\n",
      "Epoch 6/20\n",
      "382/382 [==============================] - 135s 353ms/step - loss: 0.6051 - price_loss: 0.2922 - type_loss: 0.3129 - price_sparse_categorical_accuracy: 0.8918 - type_sparse_categorical_accuracy: 0.9146 - val_loss: 2.1060 - val_price_loss: 1.1410 - val_type_loss: 0.9650 - val_price_sparse_categorical_accuracy: 0.6284 - val_type_sparse_categorical_accuracy: 0.7667\n",
      "Epoch 7/20\n",
      "382/382 [==============================] - 137s 359ms/step - loss: 0.5489 - price_loss: 0.2673 - type_loss: 0.2816 - price_sparse_categorical_accuracy: 0.8953 - type_sparse_categorical_accuracy: 0.9190 - val_loss: 2.3247 - val_price_loss: 1.2156 - val_type_loss: 1.1091 - val_price_sparse_categorical_accuracy: 0.6514 - val_type_sparse_categorical_accuracy: 0.7746\n"
     ]
    }
   ],
   "source": [
    "history = model.fit(\n",
    "    x={\n",
    "        'summary': x_train_text_id,\n",
    "        'image': x_train_image\n",
    "    },\n",
    "    y={\n",
    "        'type': y_train_type,\n",
    "        'price': y_train_price,\n",
    "    },\n",
    "    epochs=20,\n",
    "    batch_size=16,\n",
    "    validation_split=0.2,\n",
    "    callbacks=[\n",
    "        tf.keras.callbacks.EarlyStopping(monitor='val_price_loss', patience=5, )\n",
    "    ],\n",
    "    verbose=1\n",
    ")"
   ]
  },
  {
   "cell_type": "code",
   "execution_count": 29,
   "metadata": {
    "colab": {
     "base_uri": "https://localhost:8080/"
    },
    "id": "VGxWOmaJsuvW",
    "outputId": "b8817875-521a-41e8-ac52-c642b5a16c92"
   },
   "outputs": [
    {
     "name": "stdout",
     "output_type": "stream",
     "text": [
      "[[4.84534763e-02 9.36074555e-01 1.54719064e-02]\n",
      " [9.98830736e-01 1.01714861e-03 1.52229710e-04]\n",
      " [9.96605039e-01 2.82590138e-03 5.69019583e-04]\n",
      " ...\n",
      " [6.16628945e-01 3.63808930e-01 1.95620600e-02]\n",
      " [9.99174058e-01 3.60785692e-04 4.65090183e-04]\n",
      " [8.67259443e-01 1.01598516e-01 3.11420579e-02]]\n",
      "[1 0 0 ... 0 0 0]\n"
     ]
    }
   ],
   "source": [
    "y_predict = model.predict(\n",
    "    {\n",
    "        'summary': x_test_text,\n",
    "        'image': x_test_image\n",
    "    }\n",
    ")\n",
    "\n",
    "\n",
    "# probabilities\n",
    "price_predicted = y_predict['price']\n",
    "type_predicted=y_predict['type']\n",
    "\n",
    "print(price_predicted)\n",
    "\n",
    "# categories\n",
    "price_category_predicted = np.argmax(price_predicted, axis=1)\n",
    "print(price_category_predicted)\n",
    "d=pd.DataFrame(\n",
    "    {'id': data_test.id,\n",
    "     'price': price_category_predicted}\n",
    ").to_csv('sample_submissionbid.csv', index=False)"
   ]
  },
  {
   "cell_type": "code",
   "execution_count": 30,
   "metadata": {},
   "outputs": [
    {
     "data": {
      "image/png": "[encoded data removed]",
      "text/plain": [
       "<Figure size 864x288 with 3 Axes>"
      ]
     },
     "metadata": {
      "needs_background": "light"
     },
     "output_type": "display_data"
    }
   ],
   "source": [
    "results_viz(history)"
   ]
  },
  {
   "cell_type": "markdown",
   "metadata": {},
   "source": [
    "### test accuracy is incresed to 0.65027 \n",
    "### i see overfitting when the training loss decreases but the validation loss increases."
   ]
  },
  {
   "cell_type": "markdown",
   "metadata": {
    "id": "M-1AlFGJuGh9"
   },
   "source": [
    "# **Trial 5**\n",
    "add Dropout layer in image part to prevent overfitting with one Bidirectional"
   ]
  },
  {
   "cell_type": "code",
   "execution_count": 31,
   "metadata": {
    "colab": {
     "base_uri": "https://localhost:8080/"
    },
    "id": "kclOm_gKtDqZ",
    "outputId": "f46f901b-ae0c-4489-b1f1-29cb4b4dbfd7"
   },
   "outputs": [
    {
     "name": "stdout",
     "output_type": "stream",
     "text": [
      "Model: \"model_6\"\n",
      "__________________________________________________________________________________________________\n",
      " Layer (type)                   Output Shape         Param #     Connected to                     \n",
      "==================================================================================================\n",
      " input_4 (InputLayer)           [(None, 64, 64, 2)]  0           []                               \n",
      "                                                                                                  \n",
      " conv2d_10 (Conv2D)             (None, 49, 49, 64)   32832       ['input_4[0][0]']                \n",
      "                                                                                                  \n",
      " input_3 (InputLayer)           [(None, 200)]        0           []                               \n",
      "                                                                                                  \n",
      " max_pooling2d_10 (MaxPooling2D  (None, 4, 4, 64)    0           ['conv2d_10[0][0]']              \n",
      " )                                                                                                \n",
      "                                                                                                  \n",
      " embedding_2 (Embedding)        (None, 200, 200)     8000000     ['input_3[0][0]']                \n",
      "                                                                                                  \n",
      " dropout_6 (Dropout)            (None, 4, 4, 64)     0           ['max_pooling2d_10[0][0]']       \n",
      "                                                                                                  \n",
      " bidirectional_5 (Bidirectional  (None, 512)         935936      ['embedding_2[0][0]']            \n",
      " )                                                                                                \n",
      "                                                                                                  \n",
      " flatten_7 (Flatten)            (None, 1024)         0           ['dropout_6[0][0]']              \n",
      "                                                                                                  \n",
      " tf.concat_7 (TFOpLambda)       (None, 1536)         0           ['bidirectional_5[0][0]',        \n",
      "                                                                  'flatten_7[0][0]']              \n",
      "                                                                                                  \n",
      " price (Dense)                  (None, 3)            4611        ['tf.concat_7[0][0]']            \n",
      "                                                                                                  \n",
      " type (Dense)                   (None, 24)           36888       ['tf.concat_7[0][0]']            \n",
      "                                                                                                  \n",
      "==================================================================================================\n",
      "Total params: 9,010,267\n",
      "Trainable params: 9,010,267\n",
      "Non-trainable params: 0\n",
      "__________________________________________________________________________________________________\n"
     ]
    }
   ],
   "source": [
    "out=Bidirectional(LSTM(256))(embedded)\n",
    "# image part\n",
    "conv=Conv2D(64,(16,16))(input_image)\n",
    "pool=MaxPool2D(12,12)(conv)\n",
    "drop=Dropout(0.3)(pool) #add dropout layer with 30%\n",
    "flatten=Flatten()(drop)\n",
    "#compine two parts for multi-modality\n",
    "fused=tf.concat([out, flatten], axis=-1)\n",
    "#for multi-task \n",
    "#build one dense layer for each\n",
    "p_type = Dense(len_type, activation='softmax', name='type')(fused)\n",
    "p_price = Dense(len_price, activation='softmax', name='price')(fused)\n",
    "model=keras.Model(\n",
    "    inputs={\n",
    "        'summary': input_text,\n",
    "        'image': input_image\n",
    "    },\n",
    "    outputs={\n",
    "        'type': p_type,\n",
    "        'price': p_price,\n",
    "    },\n",
    ")\n",
    "# compile model\n",
    "model.compile(optimizer=Adam(learning_rate=0.01),\n",
    "    loss={\n",
    "        'type': 'sparse_categorical_crossentropy',\n",
    "        'price': 'sparse_categorical_crossentropy',\n",
    "    },\n",
    "    metrics={\n",
    "        'type': ['SparseCategoricalAccuracy'],\n",
    "        'price': ['SparseCategoricalAccuracy'],\n",
    "    },\n",
    ")\n",
    "\n",
    "\n",
    "model.summary()"
   ]
  },
  {
   "cell_type": "code",
   "execution_count": 32,
   "metadata": {
    "colab": {
     "base_uri": "https://localhost:8080/"
    },
    "id": "5W0FiVQ3yI_a",
    "outputId": "e2b4c6a6-a1aa-49a4-ef51-7b9fd1e0ea35"
   },
   "outputs": [
    {
     "name": "stdout",
     "output_type": "stream",
     "text": [
      "Epoch 1/20\n",
      "382/382 [==============================] - 160s 413ms/step - loss: 1.5313 - price_loss: 0.7082 - type_loss: 0.8231 - price_sparse_categorical_accuracy: 0.6878 - type_sparse_categorical_accuracy: 0.7722 - val_loss: 1.6870 - val_price_loss: 0.7954 - val_type_loss: 0.8916 - val_price_sparse_categorical_accuracy: 0.6429 - val_type_sparse_categorical_accuracy: 0.7582\n",
      "Epoch 2/20\n",
      "382/382 [==============================] - 158s 413ms/step - loss: 1.1830 - price_loss: 0.5688 - type_loss: 0.6142 - price_sparse_categorical_accuracy: 0.7725 - type_sparse_categorical_accuracy: 0.8227 - val_loss: 1.9103 - val_price_loss: 0.9072 - val_type_loss: 1.0031 - val_price_sparse_categorical_accuracy: 0.6461 - val_type_sparse_categorical_accuracy: 0.7398\n",
      "Epoch 3/20\n",
      "382/382 [==============================] - 158s 413ms/step - loss: 1.0945 - price_loss: 0.5213 - type_loss: 0.5733 - price_sparse_categorical_accuracy: 0.7954 - type_sparse_categorical_accuracy: 0.8317 - val_loss: 2.0211 - val_price_loss: 1.0002 - val_type_loss: 1.0209 - val_price_sparse_categorical_accuracy: 0.6461 - val_type_sparse_categorical_accuracy: 0.7549\n",
      "Epoch 4/20\n",
      "382/382 [==============================] - 155s 405ms/step - loss: 0.9980 - price_loss: 0.4807 - type_loss: 0.5173 - price_sparse_categorical_accuracy: 0.8118 - type_sparse_categorical_accuracy: 0.8538 - val_loss: 2.0696 - val_price_loss: 1.0067 - val_type_loss: 1.0628 - val_price_sparse_categorical_accuracy: 0.6271 - val_type_sparse_categorical_accuracy: 0.7543\n",
      "Epoch 5/20\n",
      "382/382 [==============================] - 156s 410ms/step - loss: 0.9030 - price_loss: 0.4275 - type_loss: 0.4755 - price_sparse_categorical_accuracy: 0.8295 - type_sparse_categorical_accuracy: 0.8625 - val_loss: 2.2197 - val_price_loss: 1.0710 - val_type_loss: 1.1487 - val_price_sparse_categorical_accuracy: 0.6271 - val_type_sparse_categorical_accuracy: 0.7556\n",
      "Epoch 6/20\n",
      "382/382 [==============================] - 164s 430ms/step - loss: 0.8430 - price_loss: 0.4037 - type_loss: 0.4393 - price_sparse_categorical_accuracy: 0.8435 - type_sparse_categorical_accuracy: 0.8771 - val_loss: 2.4159 - val_price_loss: 1.1183 - val_type_loss: 1.2976 - val_price_sparse_categorical_accuracy: 0.6107 - val_type_sparse_categorical_accuracy: 0.7058\n"
     ]
    }
   ],
   "source": [
    "history = model.fit(\n",
    "    x={\n",
    "        'summary': x_train_text_id,\n",
    "        'image': x_train_image\n",
    "    },\n",
    "    y={\n",
    "        'type': y_train_type,\n",
    "        'price': y_train_price,\n",
    "    },\n",
    "    epochs=20,\n",
    "    batch_size=16,\n",
    "    validation_split=0.2,\n",
    "    callbacks=[\n",
    "        tf.keras.callbacks.EarlyStopping(monitor='val_price_loss', patience=5, )\n",
    "    ],\n",
    "    verbose=1\n",
    ")"
   ]
  },
  {
   "cell_type": "code",
   "execution_count": 33,
   "metadata": {
    "colab": {
     "base_uri": "https://localhost:8080/"
    },
    "id": "hvldSJDYyPUm",
    "outputId": "7e55526f-738a-4316-a6b3-ff34c95e86ae"
   },
   "outputs": [
    {
     "name": "stdout",
     "output_type": "stream",
     "text": [
      "[[5.1127240e-02 9.1352272e-01 3.5350077e-02]\n",
      " [9.9909067e-01 8.5687824e-04 5.2438918e-05]\n",
      " [9.8105627e-01 1.1133125e-02 7.8106262e-03]\n",
      " ...\n",
      " [3.4692237e-01 5.7658666e-01 7.6490954e-02]\n",
      " [9.9867529e-01 1.2628941e-03 6.1769169e-05]\n",
      " [3.0031651e-01 6.2925732e-01 7.0426144e-02]]\n",
      "[1 0 0 ... 1 0 1]\n"
     ]
    }
   ],
   "source": [
    "y_predict = model.predict(\n",
    "    {\n",
    "        'summary': x_test_text,\n",
    "        'image': x_test_image\n",
    "    }\n",
    ")\n",
    "\n",
    "\n",
    "# probabilities\n",
    "price_predicted = y_predict['price']\n",
    "type_predicted=y_predict['type']\n",
    "print(price_predicted)\n",
    "\n",
    "# categories\n",
    "price_category_predicted = np.argmax(price_predicted, axis=1)\n",
    "type_category_predicted = np.argmax(type_predicted, axis=1)\n",
    "print(price_category_predicted)\n",
    "d=pd.DataFrame(\n",
    "    {'id': data_test.id,\n",
    "     'price': price_category_predicted}\n",
    ").to_csv('sample_submissionbid2.csv', index=False)"
   ]
  },
  {
   "cell_type": "code",
   "execution_count": 34,
   "metadata": {},
   "outputs": [
    {
     "data": {
      "image/png": "[encoded data removed]",
      "text/plain": [
       "<Figure size 864x288 with 3 Axes>"
      ]
     },
     "metadata": {
      "needs_background": "light"
     },
     "output_type": "display_data"
    }
   ],
   "source": [
    "results_viz(history)"
   ]
  },
  {
   "cell_type": "markdown",
   "metadata": {},
   "source": [
    "### test accuracy is decreased to 0.61983, and still i see overfitting\n",
    "### As i show ,when i use two bidirectional layer is caused increasing in test accuracy\n",
    "### with two ,test acc=0.95\n",
    "### with one , test acc=91"
   ]
  },
  {
   "cell_type": "markdown",
   "metadata": {},
   "source": [
    "# **Trial 6**\n",
    "add two convolutional layers with two max pooling layers and two dropout layers \n",
    "and i add L2-regularization with dropout to prevent overfitting , and i add learning rate=0.001"
   ]
  },
  {
   "cell_type": "code",
   "execution_count": 12,
   "metadata": {
    "colab": {
     "base_uri": "https://localhost:8080/"
    },
    "id": "sgqQZ4rizCR2",
    "outputId": "46c8979f-ad0d-40e0-d244-6efaf5b6bd6b"
   },
   "outputs": [
    {
     "name": "stdout",
     "output_type": "stream",
     "text": [
      "Model: \"model_1\"\n",
      "__________________________________________________________________________________________________\n",
      " Layer (type)                   Output Shape         Param #     Connected to                     \n",
      "==================================================================================================\n",
      " input_2 (InputLayer)           [(None, 64, 64, 2)]  0           []                               \n",
      "                                                                                                  \n",
      " conv2d_1 (Conv2D)              (None, 53, 53, 32)   9248        ['input_2[0][0]']                \n",
      "                                                                                                  \n",
      " max_pooling2d_1 (MaxPooling2D)  (None, 26, 26, 32)  0           ['conv2d_1[0][0]']               \n",
      "                                                                                                  \n",
      " conv2d_2 (Conv2D)              (None, 15, 15, 64)   294976      ['max_pooling2d_1[0][0]']        \n",
      "                                                                                                  \n",
      " input_1 (InputLayer)           [(None, 200)]        0           []                               \n",
      "                                                                                                  \n",
      " max_pooling2d_2 (MaxPooling2D)  (None, 7, 7, 64)    0           ['conv2d_2[0][0]']               \n",
      "                                                                                                  \n",
      " embedding (Embedding)          (None, 200, 200)     8000000     ['input_1[0][0]']                \n",
      "                                                                                                  \n",
      " dropout_1 (Dropout)            (None, 7, 7, 64)     0           ['max_pooling2d_2[0][0]']        \n",
      "                                                                                                  \n",
      " bidirectional (Bidirectional)  (None, 512)          935936      ['embedding[0][0]']              \n",
      "                                                                                                  \n",
      " flatten_1 (Flatten)            (None, 3136)         0           ['dropout_1[0][0]']              \n",
      "                                                                                                  \n",
      " tf.concat_1 (TFOpLambda)       (None, 3648)         0           ['bidirectional[0][0]',          \n",
      "                                                                  'flatten_1[0][0]']              \n",
      "                                                                                                  \n",
      " price (Dense)                  (None, 3)            10947       ['tf.concat_1[0][0]']            \n",
      "                                                                                                  \n",
      " type (Dense)                   (None, 24)           87576       ['tf.concat_1[0][0]']            \n",
      "                                                                                                  \n",
      "==================================================================================================\n",
      "Total params: 9,338,683\n",
      "Trainable params: 9,338,683\n",
      "Non-trainable params: 0\n",
      "__________________________________________________________________________________________________\n"
     ]
    }
   ],
   "source": [
    "from tensorflow.python.keras import regularizers\n",
    "out=Bidirectional(LSTM(256))(embedded)\n",
    "# image\n",
    "conv=Conv2D(32,(12,12))(input_image)\n",
    "pool=MaxPool2D(2,2)(conv) #stride =2\n",
    "drop=Dropout(0.3)(pool)\n",
    "conv2=Conv2D(64,(12,12))(pool)\n",
    "pool=MaxPool2D(2,2)(conv2)\n",
    "drop=Dropout(0.3)(pool)\n",
    "flatten=Flatten()(drop)\n",
    "#compine two parts for multi-modality\n",
    "fused=tf.concat([out, flatten], axis=-1)\n",
    "#for multi-task \n",
    "#build one dense layer for each\n",
    "p_type = Dense(len_type, activation='softmax', name='type',kernel_regularizer=regularizers.l2(0.01))(fused)\n",
    "p_price = Dense(len_price, activation='softmax', name='price',kernel_regularizer=regularizers.l2(0.01))(fused)\n",
    "model=keras.Model(\n",
    "    inputs={\n",
    "        'summary': input_text,\n",
    "        'image': input_image\n",
    "    },\n",
    "    outputs={\n",
    "        'type': p_type,\n",
    "        'price': p_price,\n",
    "    },\n",
    ")\n",
    "#to compile model\n",
    "model.compile(optimizer=Adam(learning_rate=0.001),\n",
    "    loss={\n",
    "        'type': 'sparse_categorical_crossentropy',\n",
    "        'price': 'sparse_categorical_crossentropy',\n",
    "    },\n",
    "    metrics={\n",
    "        'type': ['SparseCategoricalAccuracy'],\n",
    "        'price': ['SparseCategoricalAccuracy'],\n",
    "    },\n",
    ")\n",
    "\n",
    "\n",
    "model.summary()"
   ]
  },
  {
   "cell_type": "code",
   "execution_count": 12,
   "metadata": {
    "colab": {
     "base_uri": "https://localhost:8080/"
    },
    "id": "9LaeeeDQzz4b",
    "outputId": "49b07464-10b8-4dcd-aa0c-4d6b94fa8710"
   },
   "outputs": [
    {
     "name": "stdout",
     "output_type": "stream",
     "text": [
      "Epoch 1/20\n",
      "382/382 [==============================] - 180s 466ms/step - loss: 1.9422 - price_loss: 0.8172 - type_loss: 1.0300 - price_sparse_categorical_accuracy: 0.6245 - type_sparse_categorical_accuracy: 0.7473 - val_loss: 1.6817 - val_price_loss: 0.7432 - val_type_loss: 0.9008 - val_price_sparse_categorical_accuracy: 0.6704 - val_type_sparse_categorical_accuracy: 0.7654\n",
      "Epoch 2/20\n",
      "382/382 [==============================] - 170s 446ms/step - loss: 1.6025 - price_loss: 0.7095 - type_loss: 0.8567 - price_sparse_categorical_accuracy: 0.6835 - type_sparse_categorical_accuracy: 0.7673 - val_loss: 1.6400 - val_price_loss: 0.7630 - val_type_loss: 0.8421 - val_price_sparse_categorical_accuracy: 0.6494 - val_type_sparse_categorical_accuracy: 0.7739\n",
      "Epoch 3/20\n",
      "382/382 [==============================] - 172s 450ms/step - loss: 1.4376 - price_loss: 0.6418 - type_loss: 0.7563 - price_sparse_categorical_accuracy: 0.7196 - type_sparse_categorical_accuracy: 0.7853 - val_loss: 1.6415 - val_price_loss: 0.7521 - val_type_loss: 0.8494 - val_price_sparse_categorical_accuracy: 0.6835 - val_type_sparse_categorical_accuracy: 0.7693\n",
      "Epoch 4/20\n",
      "382/382 [==============================] - 173s 452ms/step - loss: 1.2844 - price_loss: 0.5714 - type_loss: 0.6649 - price_sparse_categorical_accuracy: 0.7666 - type_sparse_categorical_accuracy: 0.8146 - val_loss: 1.6760 - val_price_loss: 0.7595 - val_type_loss: 0.8686 - val_price_sparse_categorical_accuracy: 0.6599 - val_type_sparse_categorical_accuracy: 0.7654\n",
      "Epoch 5/20\n",
      "382/382 [==============================] - 167s 437ms/step - loss: 1.1862 - price_loss: 0.5141 - type_loss: 0.6044 - price_sparse_categorical_accuracy: 0.7933 - type_sparse_categorical_accuracy: 0.8341 - val_loss: 1.7337 - val_price_loss: 0.8113 - val_type_loss: 0.8623 - val_price_sparse_categorical_accuracy: 0.6782 - val_type_sparse_categorical_accuracy: 0.7759\n",
      "Epoch 6/20\n",
      "382/382 [==============================] - 166s 434ms/step - loss: 1.1046 - price_loss: 0.4883 - type_loss: 0.5559 - price_sparse_categorical_accuracy: 0.8036 - type_sparse_categorical_accuracy: 0.8490 - val_loss: 1.7909 - val_price_loss: 0.8620 - val_type_loss: 0.8591 - val_price_sparse_categorical_accuracy: 0.6632 - val_type_sparse_categorical_accuracy: 0.7779\n"
     ]
    }
   ],
   "source": [
    "history = model.fit(\n",
    "    x={\n",
    "        'summary': x_train_text_id,\n",
    "        'image': x_train_image\n",
    "    },\n",
    "    y={\n",
    "        'type': y_train_type,\n",
    "        'price': y_train_price,\n",
    "    },\n",
    "    epochs=20,\n",
    "    batch_size=16,\n",
    "    validation_split=0.2,\n",
    "    callbacks=[\n",
    "        tf.keras.callbacks.EarlyStopping(monitor='val_price_loss', patience=5, )\n",
    "    ],\n",
    "    verbose=1\n",
    ")"
   ]
  },
  {
   "cell_type": "code",
   "execution_count": 13,
   "metadata": {
    "colab": {
     "base_uri": "https://localhost:8080/"
    },
    "id": "qXEx2jGbz43j",
    "outputId": "b8ff510f-0f5d-46f3-b416-bdc36fd7d2fe"
   },
   "outputs": [
    {
     "name": "stdout",
     "output_type": "stream",
     "text": [
      "[[1.3931887e-01 6.8181658e-01 1.7886458e-01]\n",
      " [9.9103594e-01 8.1890235e-03 7.7505718e-04]\n",
      " [9.7776788e-01 1.9328211e-02 2.9039332e-03]\n",
      " ...\n",
      " [5.4971367e-01 4.0976578e-01 4.0520530e-02]\n",
      " [9.8776615e-01 1.0587047e-02 1.6467753e-03]\n",
      " [2.6681417e-01 6.5743518e-01 7.5750701e-02]]\n"
     ]
    }
   ],
   "source": [
    "y_predict = model.predict(\n",
    "    {\n",
    "        'summary': x_test_text,\n",
    "        'image': x_test_image\n",
    "    }\n",
    ")\n",
    "# probabilities\n",
    "price_predicted = y_predict['price']\n",
    "type_predicted=y_predict['type']\n",
    "print(price_predicted)\n",
    "# categories\n",
    "price_category_predicted = np.argmax(price_predicted, axis=1)\n",
    "type_category_predicted = np.argmax(type_predicted, axis=1)\n",
    "d=pd.DataFrame(\n",
    "    {'id': data_test.id,\n",
    "     'price': price_category_predicted}\n",
    ").to_csv('sample_submissionbid4.csv', index=False)"
   ]
  },
  {
   "cell_type": "markdown",
   "metadata": {},
   "source": [
    "### test accuracy is increased to  0.64483"
   ]
  },
  {
   "cell_type": "markdown",
   "metadata": {},
   "source": [
    "# Trial 7 with 3 conv layers one bidirectional \n",
    "with 3 dropout =0.5"
   ]
  },
  {
   "cell_type": "code",
   "execution_count": 13,
   "metadata": {
    "colab": {
     "base_uri": "https://localhost:8080/"
    },
    "id": "LjUnCxKs0HHk",
    "outputId": "4bd72f84-4b80-4f81-daeb-daab8ee2e4a8"
   },
   "outputs": [
    {
     "name": "stdout",
     "output_type": "stream",
     "text": [
      "Model: \"model_2\"\n",
      "__________________________________________________________________________________________________\n",
      " Layer (type)                   Output Shape         Param #     Connected to                     \n",
      "==================================================================================================\n",
      " input_2 (InputLayer)           [(None, 64, 64, 2)]  0           []                               \n",
      "                                                                                                  \n",
      " conv2d_3 (Conv2D)              (None, 53, 53, 32)   9248        ['input_2[0][0]']                \n",
      "                                                                                                  \n",
      " max_pooling2d_3 (MaxPooling2D)  (None, 26, 26, 32)  0           ['conv2d_3[0][0]']               \n",
      "                                                                                                  \n",
      " conv2d_4 (Conv2D)              (None, 15, 15, 64)   294976      ['max_pooling2d_3[0][0]']        \n",
      "                                                                                                  \n",
      " max_pooling2d_4 (MaxPooling2D)  (None, 15, 15, 64)  0           ['conv2d_4[0][0]']               \n",
      "                                                                                                  \n",
      " conv2d_5 (Conv2D)              (None, 4, 4, 128)    1179776     ['max_pooling2d_4[0][0]']        \n",
      "                                                                                                  \n",
      " input_1 (InputLayer)           [(None, 200)]        0           []                               \n",
      "                                                                                                  \n",
      " max_pooling2d_5 (MaxPooling2D)  (None, 4, 4, 128)   0           ['conv2d_5[0][0]']               \n",
      "                                                                                                  \n",
      " embedding (Embedding)          (None, 200, 200)     8000000     ['input_1[0][0]']                \n",
      "                                                                                                  \n",
      " dropout_4 (Dropout)            (None, 4, 4, 128)    0           ['max_pooling2d_5[0][0]']        \n",
      "                                                                                                  \n",
      " bidirectional_1 (Bidirectional  (None, 512)         935936      ['embedding[0][0]']              \n",
      " )                                                                                                \n",
      "                                                                                                  \n",
      " flatten_2 (Flatten)            (None, 2048)         0           ['dropout_4[0][0]']              \n",
      "                                                                                                  \n",
      " tf.concat_2 (TFOpLambda)       (None, 2560)         0           ['bidirectional_1[0][0]',        \n",
      "                                                                  'flatten_2[0][0]']              \n",
      "                                                                                                  \n",
      " price (Dense)                  (None, 3)            7683        ['tf.concat_2[0][0]']            \n",
      "                                                                                                  \n",
      " type (Dense)                   (None, 24)           61464       ['tf.concat_2[0][0]']            \n",
      "                                                                                                  \n",
      "==================================================================================================\n",
      "Total params: 10,489,083\n",
      "Trainable params: 10,489,083\n",
      "Non-trainable params: 0\n",
      "__________________________________________________________________________________________________\n"
     ]
    }
   ],
   "source": [
    "#add one bidirectional layer\n",
    "out=Bidirectional(LSTM(256))(embedded)\n",
    "# for image part\n",
    "# add the first conv layer\n",
    "conv=Conv2D(32,(12,12))(input_image)\n",
    "pool=MaxPool2D(2,2)(conv)\n",
    "drop=Dropout(0.5)(pool)\n",
    "#add the second conv layer\n",
    "conv2=Conv2D(64,(12,12))(pool)\n",
    "pool=MaxPool2D(1,1)(conv2)\n",
    "drop=Dropout(0.5)(pool)\n",
    "#add the third conv layer\n",
    "conv3=Conv2D(128,(12,12))(pool)\n",
    "pool=MaxPool2D(1,1)(conv3)\n",
    "drop=Dropout(0.5)(pool)\n",
    "flatten=Flatten()(drop)\n",
    "#compine two parts for multi-modality\n",
    "fused=tf.concat([out, flatten], axis=-1)\n",
    "#for multi-task \n",
    "#build one dense layer for each\n",
    "p_type = Dense(len_type, activation='softmax', name='type',kernel_regularizer=regularizers.l2(0.01))(fused)\n",
    "p_price = Dense(len_price, activation='softmax', name='price',kernel_regularizer=regularizers.l2(0.01))(fused)\n",
    "model=keras.Model(\n",
    "    inputs={\n",
    "        'summary': input_text,\n",
    "        'image': input_image\n",
    "    },\n",
    "    outputs={\n",
    "        'type': p_type,\n",
    "        'price': p_price,\n",
    "    },\n",
    ")\n",
    "model.compile(optimizer=Adam(learning_rate=0.001),\n",
    "    loss={\n",
    "        'type': 'sparse_categorical_crossentropy',\n",
    "        'price': 'sparse_categorical_crossentropy',\n",
    "    },\n",
    "    metrics={\n",
    "        'type': ['SparseCategoricalAccuracy'],\n",
    "        'price': ['SparseCategoricalAccuracy'],\n",
    "    },\n",
    ")\n",
    "\n",
    "\n",
    "model.summary()"
   ]
  },
  {
   "cell_type": "code",
   "execution_count": 14,
   "metadata": {
    "colab": {
     "base_uri": "https://localhost:8080/"
    },
    "id": "aC8fDFG42dOn",
    "outputId": "ac68ee28-f43c-4222-8886-a7f180c86d6b"
   },
   "outputs": [
    {
     "name": "stdout",
     "output_type": "stream",
     "text": [
      "Epoch 1/20\n",
      "367/367 [==============================] - 587s 2s/step - loss: 1.9939 - price_loss: 0.8231 - type_loss: 1.0077 - price_sparse_categorical_accuracy: 0.6241 - type_sparse_categorical_accuracy: 0.7531 - val_loss: 1.6483 - val_price_loss: 0.7212 - val_type_loss: 0.8445 - val_price_sparse_categorical_accuracy: 0.6753 - val_type_sparse_categorical_accuracy: 0.7790\n",
      "Epoch 2/20\n",
      "367/367 [==============================] - 526s 1s/step - loss: 1.6131 - price_loss: 0.7173 - type_loss: 0.8214 - price_sparse_categorical_accuracy: 0.6887 - type_sparse_categorical_accuracy: 0.7739 - val_loss: 1.6704 - val_price_loss: 0.7752 - val_type_loss: 0.8164 - val_price_sparse_categorical_accuracy: 0.6637 - val_type_sparse_categorical_accuracy: 0.7844\n",
      "Epoch 3/20\n",
      "367/367 [==============================] - 535s 1s/step - loss: 1.4586 - price_loss: 0.6545 - type_loss: 0.7278 - price_sparse_categorical_accuracy: 0.7220 - type_sparse_categorical_accuracy: 0.7969 - val_loss: 1.6314 - val_price_loss: 0.7364 - val_type_loss: 0.8136 - val_price_sparse_categorical_accuracy: 0.6808 - val_type_sparse_categorical_accuracy: 0.7797\n",
      "Epoch 4/20\n",
      "367/367 [==============================] - 604s 2s/step - loss: 1.3325 - price_loss: 0.5835 - type_loss: 0.6594 - price_sparse_categorical_accuracy: 0.7621 - type_sparse_categorical_accuracy: 0.8169 - val_loss: 1.7123 - val_price_loss: 0.8163 - val_type_loss: 0.8093 - val_price_sparse_categorical_accuracy: 0.6814 - val_type_sparse_categorical_accuracy: 0.7865\n",
      "Epoch 5/20\n",
      "367/367 [==============================] - 594s 2s/step - loss: 1.1901 - price_loss: 0.5084 - type_loss: 0.5893 - price_sparse_categorical_accuracy: 0.8022 - type_sparse_categorical_accuracy: 0.8374 - val_loss: 1.7073 - val_price_loss: 0.8040 - val_type_loss: 0.8178 - val_price_sparse_categorical_accuracy: 0.6733 - val_type_sparse_categorical_accuracy: 0.7824\n",
      "Epoch 6/20\n",
      "367/367 [==============================] - 592s 2s/step - loss: 1.0703 - price_loss: 0.4544 - type_loss: 0.5270 - price_sparse_categorical_accuracy: 0.8287 - type_sparse_categorical_accuracy: 0.8572 - val_loss: 1.8284 - val_price_loss: 0.9034 - val_type_loss: 0.8397 - val_price_sparse_categorical_accuracy: 0.6692 - val_type_sparse_categorical_accuracy: 0.7844\n"
     ]
    }
   ],
   "source": [
    "history = model.fit(\n",
    "    x={\n",
    "        'summary': x_train_text_id,\n",
    "        'image': x_train_image\n",
    "    },\n",
    "    y={\n",
    "        'type': y_train_type,\n",
    "        'price': y_train_price,\n",
    "    },\n",
    "    epochs=20,\n",
    "    batch_size=16,\n",
    "    validation_split=0.2,\n",
    "    callbacks=[\n",
    "        tf.keras.callbacks.EarlyStopping(monitor='val_price_loss', patience=5, )\n",
    "    ],\n",
    "    verbose=1\n",
    ")"
   ]
  },
  {
   "cell_type": "code",
   "execution_count": 15,
   "metadata": {
    "colab": {
     "base_uri": "https://localhost:8080/"
    },
    "id": "xCxQz0g02hSf",
    "outputId": "953898d5-6061-4df7-d497-4a39cab25716"
   },
   "outputs": [
    {
     "name": "stdout",
     "output_type": "stream",
     "text": [
      "230/230 [==============================] - 150s 642ms/step\n",
      "[[7.3515713e-02 5.2560812e-01 4.0087616e-01]\n",
      " [9.9651128e-01 2.9513899e-03 5.3735677e-04]\n",
      " [9.9258292e-01 6.2222094e-03 1.1948555e-03]\n",
      " ...\n",
      " [7.5640547e-01 1.9185026e-01 5.1744174e-02]\n",
      " [9.9359363e-01 4.8837084e-03 1.5226532e-03]\n",
      " [3.1887409e-01 5.2921271e-01 1.5191314e-01]]\n"
     ]
    }
   ],
   "source": [
    "y_predict = model.predict(\n",
    "    {\n",
    "        'summary': x_test_text,\n",
    "        'image': x_test_image\n",
    "    }\n",
    ")\n",
    "\n",
    "\n",
    "# probabilities\n",
    "price_predicted = y_predict['price']\n",
    "type_predicted=y_predict['type']\n",
    "print(price_predicted)\n",
    "\n",
    "# categories\n",
    "price_category_predicted = np.argmax(price_predicted, axis=1)\n",
    "type_category_predicted = np.argmax(type_predicted, axis=1)\n",
    "d=pd.DataFrame(\n",
    "    {'id': data_test.id,\n",
    "     'price': price_category_predicted}\n",
    ").to_csv('sample_submissionbid5.csv', index=False)"
   ]
  },
  {
   "cell_type": "code",
   "execution_count": 16,
   "metadata": {},
   "outputs": [
    {
     "data": {
      "image/png": "[encoded data removed]",
      "text/plain": [
       "<Figure size 864x288 with 3 Axes>"
      ]
     },
     "metadata": {
      "needs_background": "light"
     },
     "output_type": "display_data"
    }
   ],
   "source": [
    "results_viz(history)"
   ]
  },
  {
   "cell_type": "code",
   "execution_count": null,
   "metadata": {},
   "outputs": [],
   "source": [
    "### by adding 3 conv the test accuracy = 0.65407 is increased more than two conv "
   ]
  },
  {
   "cell_type": "markdown",
   "metadata": {
    "id": "AvylzDsb2nxl"
   },
   "source": [
    "# **Trial 8 with 3 conv layers and two LSTM**\n",
    "accuracy is decreased and i will try to improve it by using two LSTM"
   ]
  },
  {
   "cell_type": "code",
   "execution_count": 17,
   "metadata": {},
   "outputs": [
    {
     "name": "stdout",
     "output_type": "stream",
     "text": [
      "Model: \"model_3\"\n",
      "__________________________________________________________________________________________________\n",
      " Layer (type)                   Output Shape         Param #     Connected to                     \n",
      "==================================================================================================\n",
      " input_2 (InputLayer)           [(None, 64, 64, 2)]  0           []                               \n",
      "                                                                                                  \n",
      " conv2d_6 (Conv2D)              (None, 53, 53, 32)   9248        ['input_2[0][0]']                \n",
      "                                                                                                  \n",
      " max_pooling2d_6 (MaxPooling2D)  (None, 26, 26, 32)  0           ['conv2d_6[0][0]']               \n",
      "                                                                                                  \n",
      " conv2d_7 (Conv2D)              (None, 15, 15, 64)   294976      ['max_pooling2d_6[0][0]']        \n",
      "                                                                                                  \n",
      " input_1 (InputLayer)           [(None, 200)]        0           []                               \n",
      "                                                                                                  \n",
      " max_pooling2d_7 (MaxPooling2D)  (None, 15, 15, 64)  0           ['conv2d_7[0][0]']               \n",
      "                                                                                                  \n",
      " embedding (Embedding)          (None, 200, 200)     8000000     ['input_1[0][0]']                \n",
      "                                                                                                  \n",
      " conv2d_8 (Conv2D)              (None, 4, 4, 128)    1179776     ['max_pooling2d_7[0][0]']        \n",
      "                                                                                                  \n",
      " spatial_dropout1d_1 (SpatialDr  (None, 200, 200)    0           ['embedding[0][0]']              \n",
      " opout1D)                                                                                         \n",
      "                                                                                                  \n",
      " max_pooling2d_8 (MaxPooling2D)  (None, 4, 4, 128)   0           ['conv2d_8[0][0]']               \n",
      "                                                                                                  \n",
      " lstm_2 (LSTM)                  (None, 200, 150)     210600      ['spatial_dropout1d_1[0][0]']    \n",
      "                                                                                                  \n",
      " dropout_7 (Dropout)            (None, 4, 4, 128)    0           ['max_pooling2d_8[0][0]']        \n",
      "                                                                                                  \n",
      " lstm_3 (LSTM)                  (None, 150)          180600      ['lstm_2[0][0]']                 \n",
      "                                                                                                  \n",
      " flatten_3 (Flatten)            (None, 2048)         0           ['dropout_7[0][0]']              \n",
      "                                                                                                  \n",
      " tf.concat_3 (TFOpLambda)       (None, 2198)         0           ['lstm_3[0][0]',                 \n",
      "                                                                  'flatten_3[0][0]']              \n",
      "                                                                                                  \n",
      " price (Dense)                  (None, 3)            6597        ['tf.concat_3[0][0]']            \n",
      "                                                                                                  \n",
      " type (Dense)                   (None, 24)           52776       ['tf.concat_3[0][0]']            \n",
      "                                                                                                  \n",
      "==================================================================================================\n",
      "Total params: 9,934,573\n",
      "Trainable params: 9,934,573\n",
      "Non-trainable params: 0\n",
      "__________________________________________________________________________________________________\n"
     ]
    }
   ],
   "source": [
    "out=SpatialDropout1D(0.2)(embedded)\n",
    "out=LSTM(150,dropout=0.2,return_sequences=True)(out)\n",
    "out1=LSTM(150)(out)\n",
    "# image part \n",
    "# simple conv2d. you can change it to anything else as needed\n",
    "conv=Conv2D(32,(12,12))(input_image)\n",
    "pool=MaxPool2D(2,2)(conv)\n",
    "drop=Dropout(0.25)(pool)\n",
    "conv2=Conv2D(64,(12,12))(pool)\n",
    "pool=MaxPool2D(1,1)(conv2)\n",
    "drop=Dropout(0.25)(pool)\n",
    "conv3=Conv2D(128,(12,12))(pool)\n",
    "pool=MaxPool2D(1,1)(conv3)\n",
    "drop=Dropout(0.2)(pool)\n",
    "flatten=Flatten()(drop)\n",
    "#compine two parts for multi-modality\n",
    "fused=tf.concat([out1, flatten], axis=-1)\n",
    "#for multi-task \n",
    "#build one dense layer for each\n",
    "p_type = Dense(len_type, activation='softmax', name='type')(fused)\n",
    "p_price = Dense(len_price, activation='softmax', name='price')(fused)\n",
    "model=keras.Model(\n",
    "    inputs={\n",
    "        'summary': input_text,\n",
    "        'image': input_image\n",
    "    },\n",
    "    outputs={\n",
    "        'type': p_type,\n",
    "        'price': p_price,\n",
    "    },\n",
    ")\n",
    "model.compile(optimizer=Adam(),\n",
    "    loss={\n",
    "        'type': 'sparse_categorical_crossentropy',\n",
    "        'price': 'sparse_categorical_crossentropy',\n",
    "    },\n",
    "    metrics={\n",
    "        'type': ['SparseCategoricalAccuracy'],\n",
    "        'price': ['SparseCategoricalAccuracy'],\n",
    "    },\n",
    ")\n",
    "\n",
    "\n",
    "model.summary()"
   ]
  },
  {
   "cell_type": "code",
   "execution_count": 18,
   "metadata": {},
   "outputs": [
    {
     "name": "stdout",
     "output_type": "stream",
     "text": [
      "Epoch 1/20\n",
      "367/367 [==============================] - 352s 930ms/step - loss: 1.9286 - price_loss: 0.8590 - type_loss: 1.0696 - price_sparse_categorical_accuracy: 0.6102 - type_sparse_categorical_accuracy: 0.7529 - val_loss: 1.8209 - val_price_loss: 0.8547 - val_type_loss: 0.9662 - val_price_sparse_categorical_accuracy: 0.6241 - val_type_sparse_categorical_accuracy: 0.7688\n",
      "Epoch 2/20\n",
      "367/367 [==============================] - 337s 919ms/step - loss: 1.8683 - price_loss: 0.8467 - type_loss: 1.0215 - price_sparse_categorical_accuracy: 0.6196 - type_sparse_categorical_accuracy: 0.7560 - val_loss: 1.8278 - val_price_loss: 0.8363 - val_type_loss: 0.9915 - val_price_sparse_categorical_accuracy: 0.6241 - val_type_sparse_categorical_accuracy: 0.7688\n",
      "Epoch 3/20\n",
      "367/367 [==============================] - 350s 955ms/step - loss: 1.9775 - price_loss: 0.8812 - type_loss: 1.0962 - price_sparse_categorical_accuracy: 0.6002 - type_sparse_categorical_accuracy: 0.7469 - val_loss: 1.8029 - val_price_loss: 0.8330 - val_type_loss: 0.9699 - val_price_sparse_categorical_accuracy: 0.6241 - val_type_sparse_categorical_accuracy: 0.7688\n",
      "Epoch 4/20\n",
      "367/367 [==============================] - 330s 899ms/step - loss: 1.8672 - price_loss: 0.8443 - type_loss: 1.0229 - price_sparse_categorical_accuracy: 0.6196 - type_sparse_categorical_accuracy: 0.7560 - val_loss: 1.7994 - val_price_loss: 0.8299 - val_type_loss: 0.9695 - val_price_sparse_categorical_accuracy: 0.6241 - val_type_sparse_categorical_accuracy: 0.7688\n",
      "Epoch 5/20\n",
      "367/367 [==============================] - 306s 833ms/step - loss: 1.8613 - price_loss: 0.8430 - type_loss: 1.0183 - price_sparse_categorical_accuracy: 0.6196 - type_sparse_categorical_accuracy: 0.7560 - val_loss: 1.7973 - val_price_loss: 0.8336 - val_type_loss: 0.9638 - val_price_sparse_categorical_accuracy: 0.6241 - val_type_sparse_categorical_accuracy: 0.7688\n",
      "Epoch 6/20\n",
      "367/367 [==============================] - 309s 843ms/step - loss: 1.8668 - price_loss: 0.8472 - type_loss: 1.0196 - price_sparse_categorical_accuracy: 0.6195 - type_sparse_categorical_accuracy: 0.7560 - val_loss: 1.8092 - val_price_loss: 0.8297 - val_type_loss: 0.9796 - val_price_sparse_categorical_accuracy: 0.6241 - val_type_sparse_categorical_accuracy: 0.7688\n",
      "Epoch 7/20\n",
      "367/367 [==============================] - 306s 833ms/step - loss: 1.8724 - price_loss: 0.8475 - type_loss: 1.0250 - price_sparse_categorical_accuracy: 0.6186 - type_sparse_categorical_accuracy: 0.7560 - val_loss: 1.8318 - val_price_loss: 0.8363 - val_type_loss: 0.9955 - val_price_sparse_categorical_accuracy: 0.6241 - val_type_sparse_categorical_accuracy: 0.7688\n",
      "Epoch 8/20\n",
      "367/367 [==============================] - 327s 891ms/step - loss: 1.8969 - price_loss: 0.8552 - type_loss: 1.0417 - price_sparse_categorical_accuracy: 0.6128 - type_sparse_categorical_accuracy: 0.7560 - val_loss: 1.8306 - val_price_loss: 0.8468 - val_type_loss: 0.9838 - val_price_sparse_categorical_accuracy: 0.6241 - val_type_sparse_categorical_accuracy: 0.7688\n",
      "Epoch 9/20\n",
      "367/367 [==============================] - 309s 842ms/step - loss: 1.8989 - price_loss: 0.8599 - type_loss: 1.0390 - price_sparse_categorical_accuracy: 0.6114 - type_sparse_categorical_accuracy: 0.7560 - val_loss: 1.8106 - val_price_loss: 0.8371 - val_type_loss: 0.9735 - val_price_sparse_categorical_accuracy: 0.6241 - val_type_sparse_categorical_accuracy: 0.7688\n",
      "Epoch 10/20\n",
      "367/367 [==============================] - 311s 849ms/step - loss: 10.0171 - price_loss: 3.2342 - type_loss: 6.7829 - price_sparse_categorical_accuracy: 0.5422 - type_sparse_categorical_accuracy: 0.6708 - val_loss: 2.1676 - val_price_loss: 0.9077 - val_type_loss: 1.2599 - val_price_sparse_categorical_accuracy: 0.6241 - val_type_sparse_categorical_accuracy: 0.7688\n",
      "Epoch 11/20\n",
      "367/367 [==============================] - 344s 938ms/step - loss: 2.1830 - price_loss: 0.9186 - type_loss: 1.2644 - price_sparse_categorical_accuracy: 0.5756 - type_sparse_categorical_accuracy: 0.7519 - val_loss: 1.9796 - val_price_loss: 0.8988 - val_type_loss: 1.0808 - val_price_sparse_categorical_accuracy: 0.6241 - val_type_sparse_categorical_accuracy: 0.7688\n"
     ]
    }
   ],
   "source": [
    "history = model.fit(\n",
    "    x={\n",
    "        'summary': x_train_text_id,\n",
    "        'image': x_train_image\n",
    "    },\n",
    "    y={\n",
    "        'type': y_train_type,\n",
    "        'price': y_train_price,\n",
    "    },\n",
    "    epochs=20,\n",
    "    batch_size=16,\n",
    "    validation_split=0.2,\n",
    "    callbacks=[\n",
    "        tf.keras.callbacks.EarlyStopping(monitor='val_price_loss', patience=5, )\n",
    "    ],\n",
    "    verbose=1\n",
    ")"
   ]
  },
  {
   "cell_type": "code",
   "execution_count": 19,
   "metadata": {},
   "outputs": [
    {
     "name": "stdout",
     "output_type": "stream",
     "text": [
      "230/230 [==============================] - 92s 391ms/step\n",
      "[[7.3515713e-02 5.2560812e-01 4.0087616e-01]\n",
      " [9.9651128e-01 2.9513899e-03 5.3735677e-04]\n",
      " [9.9258292e-01 6.2222094e-03 1.1948555e-03]\n",
      " ...\n",
      " [7.5640547e-01 1.9185026e-01 5.1744174e-02]\n",
      " [9.9359363e-01 4.8837084e-03 1.5226532e-03]\n",
      " [3.1887409e-01 5.2921271e-01 1.5191314e-01]]\n",
      "[0 0 0 ... 0 0 0]\n"
     ]
    }
   ],
   "source": [
    "y_predict=model.predict({\n",
    "    'summary':x_test_text\n",
    "    ,'image':x_test_image\n",
    "})\n",
    "predict=y_predict['price']\n",
    "type_predicted=y_predict['type']\n",
    "print(price_predicted)\n",
    "\n",
    "# categories\n",
    "type_category_predicted = np.argmax(type_predicted, axis=1)\n",
    "price_category_predicted =np.argmax(predict, axis=1)\n",
    "print(price_category_predicted)\n",
    "d=pd.DataFrame(\n",
    "    {'id': data_test.id,\n",
    "     'price': price_category_predicted}\n",
    ").to_csv('sample_submissionbid6.csv', index=False)"
   ]
  },
  {
   "cell_type": "code",
   "execution_count": 20,
   "metadata": {},
   "outputs": [
    {
     "data": {
      "image/png": "[encoded data removed]",
      "text/plain": [
       "<Figure size 864x288 with 3 Axes>"
      ]
     },
     "metadata": {
      "needs_background": "light"
     },
     "output_type": "display_data"
    }
   ],
   "source": [
    "results_viz(history)"
   ]
  },
  {
   "cell_type": "markdown",
   "metadata": {},
   "source": [
    "### test accuracy = 0.62038,i will try using two LSTM"
   ]
  },
  {
   "cell_type": "markdown",
   "metadata": {},
   "source": [
    "# **Trial 9 with 3 conv layers and one LSTM**"
   ]
  },
  {
   "cell_type": "code",
   "execution_count": 22,
   "metadata": {
    "id": "xbK_jk212rTX"
   },
   "outputs": [
    {
     "name": "stdout",
     "output_type": "stream",
     "text": [
      "Model: \"model_4\"\n",
      "__________________________________________________________________________________________________\n",
      " Layer (type)                   Output Shape         Param #     Connected to                     \n",
      "==================================================================================================\n",
      " input_2 (InputLayer)           [(None, 64, 64, 2)]  0           []                               \n",
      "                                                                                                  \n",
      " conv2d_9 (Conv2D)              (None, 53, 53, 32)   9248        ['input_2[0][0]']                \n",
      "                                                                                                  \n",
      " max_pooling2d_9 (MaxPooling2D)  (None, 26, 26, 32)  0           ['conv2d_9[0][0]']               \n",
      "                                                                                                  \n",
      " conv2d_10 (Conv2D)             (None, 15, 15, 64)   294976      ['max_pooling2d_9[0][0]']        \n",
      "                                                                                                  \n",
      " max_pooling2d_10 (MaxPooling2D  (None, 15, 15, 64)  0           ['conv2d_10[0][0]']              \n",
      " )                                                                                                \n",
      "                                                                                                  \n",
      " input_1 (InputLayer)           [(None, 200)]        0           []                               \n",
      "                                                                                                  \n",
      " conv2d_11 (Conv2D)             (None, 4, 4, 128)    1179776     ['max_pooling2d_10[0][0]']       \n",
      "                                                                                                  \n",
      " embedding (Embedding)          (None, 200, 200)     8000000     ['input_1[0][0]']                \n",
      "                                                                                                  \n",
      " max_pooling2d_11 (MaxPooling2D  (None, 4, 4, 128)   0           ['conv2d_11[0][0]']              \n",
      " )                                                                                                \n",
      "                                                                                                  \n",
      " spatial_dropout1d_2 (SpatialDr  (None, 200, 200)    0           ['embedding[0][0]']              \n",
      " opout1D)                                                                                         \n",
      "                                                                                                  \n",
      " dropout_10 (Dropout)           (None, 4, 4, 128)    0           ['max_pooling2d_11[0][0]']       \n",
      "                                                                                                  \n",
      " lstm_4 (LSTM)                  (None, 256)          467968      ['spatial_dropout1d_2[0][0]']    \n",
      "                                                                                                  \n",
      " flatten_4 (Flatten)            (None, 2048)         0           ['dropout_10[0][0]']             \n",
      "                                                                                                  \n",
      " tf.concat_4 (TFOpLambda)       (None, 2304)         0           ['lstm_4[0][0]',                 \n",
      "                                                                  'flatten_4[0][0]']              \n",
      "                                                                                                  \n",
      " price (Dense)                  (None, 3)            6915        ['tf.concat_4[0][0]']            \n",
      "                                                                                                  \n",
      " type (Dense)                   (None, 24)           55320       ['tf.concat_4[0][0]']            \n",
      "                                                                                                  \n",
      "==================================================================================================\n",
      "Total params: 10,014,203\n",
      "Trainable params: 10,014,203\n",
      "Non-trainable params: 0\n",
      "__________________________________________________________________________________________________\n"
     ]
    }
   ],
   "source": [
    "out=SpatialDropout1D(0.2)(embedded)\n",
    "out=LSTM(256,dropout=0.2)(out)\n",
    "# image part \n",
    "# simple conv2d. you can change it to anything else as needed\n",
    "conv=Conv2D(32,(12,12))(input_image)\n",
    "pool=MaxPool2D(2,2)(conv)\n",
    "drop=Dropout(0.25)(pool)\n",
    "conv2=Conv2D(64,(12,12))(pool)\n",
    "pool=MaxPool2D(1,1)(conv2)\n",
    "drop=Dropout(0.25)(pool)\n",
    "conv3=Conv2D(128,(12,12))(pool)\n",
    "pool=MaxPool2D(1,1)(conv3)\n",
    "drop=Dropout(0.2)(pool)\n",
    "flatten=Flatten()(drop)\n",
    "#compine two parts for multi-modality\n",
    "fused=tf.concat([out, flatten], axis=-1)\n",
    "#for multi-task \n",
    "#build one dense layer for each\n",
    "p_type = Dense(len_type, activation='softmax', name='type')(fused)\n",
    "p_price = Dense(len_price, activation='softmax', name='price')(fused)\n",
    "model=keras.Model(\n",
    "    inputs={\n",
    "        'summary': input_text,\n",
    "        'image': input_image\n",
    "    },\n",
    "    outputs={\n",
    "        'type': p_type,\n",
    "        'price': p_price,\n",
    "    },\n",
    ")\n",
    "model.compile(optimizer=Adam(),\n",
    "    loss={\n",
    "        'type': 'sparse_categorical_crossentropy',\n",
    "        'price': 'sparse_categorical_crossentropy',\n",
    "    },\n",
    "    metrics={\n",
    "        'type': ['SparseCategoricalAccuracy'],\n",
    "        'price': ['SparseCategoricalAccuracy'],\n",
    "    },\n",
    ")\n",
    "\n",
    "\n",
    "model.summary()"
   ]
  },
  {
   "cell_type": "code",
   "execution_count": 23,
   "metadata": {
    "id": "NDD19yByDrKQ"
   },
   "outputs": [
    {
     "name": "stdout",
     "output_type": "stream",
     "text": [
      "Epoch 1/20\n",
      "367/367 [==============================] - 352s 946ms/step - loss: 1.9219 - price_loss: 0.8562 - type_loss: 1.0657 - price_sparse_categorical_accuracy: 0.6137 - type_sparse_categorical_accuracy: 0.7536 - val_loss: 1.7976 - val_price_loss: 0.8299 - val_type_loss: 0.9677 - val_price_sparse_categorical_accuracy: 0.6241 - val_type_sparse_categorical_accuracy: 0.7688\n",
      "Epoch 2/20\n",
      "367/367 [==============================] - 352s 958ms/step - loss: 1.8961 - price_loss: 0.8541 - type_loss: 1.0421 - price_sparse_categorical_accuracy: 0.6152 - type_sparse_categorical_accuracy: 0.7560 - val_loss: 2.0074 - val_price_loss: 0.8807 - val_type_loss: 1.1266 - val_price_sparse_categorical_accuracy: 0.6241 - val_type_sparse_categorical_accuracy: 0.7688\n",
      "Epoch 3/20\n",
      "367/367 [==============================] - 361s 983ms/step - loss: 1.8870 - price_loss: 0.8514 - type_loss: 1.0356 - price_sparse_categorical_accuracy: 0.6080 - type_sparse_categorical_accuracy: 0.7560 - val_loss: 1.8180 - val_price_loss: 0.8433 - val_type_loss: 0.9747 - val_price_sparse_categorical_accuracy: 0.6241 - val_type_sparse_categorical_accuracy: 0.7688\n",
      "Epoch 4/20\n",
      "367/367 [==============================] - 351s 956ms/step - loss: 1.8965 - price_loss: 0.8552 - type_loss: 1.0413 - price_sparse_categorical_accuracy: 0.6131 - type_sparse_categorical_accuracy: 0.7560 - val_loss: 1.8143 - val_price_loss: 0.8354 - val_type_loss: 0.9789 - val_price_sparse_categorical_accuracy: 0.6241 - val_type_sparse_categorical_accuracy: 0.7688\n",
      "Epoch 5/20\n",
      "367/367 [==============================] - 364s 994ms/step - loss: 1.8936 - price_loss: 0.8531 - type_loss: 1.0405 - price_sparse_categorical_accuracy: 0.6099 - type_sparse_categorical_accuracy: 0.7560 - val_loss: 1.8075 - val_price_loss: 0.8341 - val_type_loss: 0.9733 - val_price_sparse_categorical_accuracy: 0.6241 - val_type_sparse_categorical_accuracy: 0.7688\n",
      "Epoch 6/20\n",
      "367/367 [==============================] - 335s 914ms/step - loss: 1.8919 - price_loss: 0.8550 - type_loss: 1.0369 - price_sparse_categorical_accuracy: 0.6119 - type_sparse_categorical_accuracy: 0.7560 - val_loss: 1.8057 - val_price_loss: 0.8361 - val_type_loss: 0.9696 - val_price_sparse_categorical_accuracy: 0.6241 - val_type_sparse_categorical_accuracy: 0.7688\n"
     ]
    }
   ],
   "source": [
    "history = model.fit(\n",
    "    x={\n",
    "        'summary': x_train_text_id,\n",
    "        'image': x_train_image\n",
    "    },\n",
    "    y={\n",
    "        'type': y_train_type,\n",
    "        'price': y_train_price,\n",
    "    },\n",
    "    epochs=20,\n",
    "    batch_size=16,\n",
    "    validation_split=0.2,\n",
    "    callbacks=[\n",
    "        tf.keras.callbacks.EarlyStopping(monitor='val_price_loss', patience=5, )\n",
    "    ],\n",
    "    verbose=1\n",
    ")"
   ]
  },
  {
   "cell_type": "code",
   "execution_count": 24,
   "metadata": {
    "id": "xOyNLF55208j"
   },
   "outputs": [
    {
     "name": "stdout",
     "output_type": "stream",
     "text": [
      "230/230 [==============================] - 86s 373ms/step\n",
      "[[7.3515713e-02 5.2560812e-01 4.0087616e-01]\n",
      " [9.9651128e-01 2.9513899e-03 5.3735677e-04]\n",
      " [9.9258292e-01 6.2222094e-03 1.1948555e-03]\n",
      " ...\n",
      " [7.5640547e-01 1.9185026e-01 5.1744174e-02]\n",
      " [9.9359363e-01 4.8837084e-03 1.5226532e-03]\n",
      " [3.1887409e-01 5.2921271e-01 1.5191314e-01]]\n",
      "[0 0 0 ... 0 0 0]\n"
     ]
    }
   ],
   "source": [
    "y_predict=model.predict({\n",
    "    'summary':x_test_text\n",
    "    ,'image':x_test_image\n",
    "})\n",
    "predict=y_predict['price']\n",
    "type_predicted=y_predict['type']\n",
    "print(price_predicted)\n",
    "\n",
    "# categories\n",
    "type_category_predicted = np.argmax(type_predicted, axis=1)\n",
    "price_category_predicted =np.argmax(predict, axis=1)\n",
    "print(price_category_predicted)\n",
    "d=pd.DataFrame(\n",
    "    {'id': data_test.id,\n",
    "     'price': price_category_predicted}\n",
    ").to_csv('sample_submissionbid9.csv', index=False)"
   ]
  },
  {
   "cell_type": "markdown",
   "metadata": {},
   "source": [
    "### test accuracy still the same =0.62038"
   ]
  },
  {
   "cell_type": "markdown",
   "metadata": {},
   "source": [
    "## Is fully-connected model a good one for sequential data? Why? How about for image data? Is it good? Why?\n",
    "-Isn't good for sequential data,because it cannot capture sequential information in the input data which is required for dealing with sequence data and memory dependence\n",
    "Considers only the current input\n",
    "Cannot memorize previous inputs but RNN is good for sequential data                                      \n",
    "-Isn't good for image , because fully connected networks are structure agnostic. there are no special assumptions needed to be made about the input.\n",
    "While being structure agnostic makes fully connected networks very broadly applicable, such networks do tend to have weaker performance than special-purpose networks tuned to the structure of a problem space.\n",
    "Although fully connected networks make no assumptions about the input they tend to perform less and aren’t good for feature extraction. Plus they have a higher number of weights to train that results in high training time but CNN is good"
   ]
  },
  {
   "cell_type": "markdown",
   "metadata": {},
   "source": [
    "## What is gradient vanishing and gradient explosion, and how GRU/LSTM tries to mitigate this problem?\n",
    "1- gradient vanishing when the gradients carry information used in the RNN, and when the gradient becomes too small, the parameter updates become insignificant. This makes the learning of long data sequences difficult.                       \n",
    "2-gradient explosion ,this problem arises when large error gradients accumulate, resulting in very large updates to the neural network model weights during the training process.                                \n",
    "-LSTM network has three gates that update and control the cell states, these are the forget gate, input gate and output gate. The gates use hyperbolic tangent and sigmoid activation functions.                                 \n",
    "1-The forget gate controls what information in the cell state to forget, given new information than entered the network.      \n",
    "2-The input gate controls what new information will be encoded into the cell state, given the new input information and  update of the cell state                                                   \n",
    "3-The output gate controls what information encoded in the cell state is sent to the network as input in the following time step                                            \n",
    "-GRU’s capability of using gates and memory cells makes it an efficient solution for our vanishing gradient problem. This is because the gate of GRU can easily be set to 0.There are two gates forget and output ."
   ]
  },
  {
   "cell_type": "markdown",
   "metadata": {},
   "source": [
    "## What is multi-objective/multi-task learning? What is multi-modality learning? How do you use them in this assignment?\n",
    "-Multi-task learning learns multiple tasks simultaneously are solved at the same time, while exploiting commonalities and differences across tasks, optimizing multiple loss functions at once, multi-task learning should be used when the tasks have some level of correlation     \n",
    "-Multimodal learning is teaching from more than one source . By engaging the mind in multiple learning styles at the same time, learners experience a diverse learning style that collectively suits all of them.                            \n",
    "1-Multi-task in assignment combines ( type and price ) two outputs                          \n",
    "2-multimodality combines the text model and image model"
   ]
  },
  {
   "cell_type": "markdown",
   "metadata": {},
   "source": [
    "## What is the difference among xgboost, lightgbm and catboost?\n",
    "-a trained CatBoost tree can predict extraordinarily faster than either XGBoost or LightGBM\n",
    "1- LightGBM (LightGBM does support categories, but has more limitations than CatBoost)is unique in that it can construct trees using Gradient-Based One-Sided Sampling.GOSS allows LightGBM to quickly find the most influential split and affecting a loss function and updates an underfit tree according to a selection of the largest gradients and randomly sampled small gradients, it has Lower memory consumption, is faster than xgboost.                                         \n",
    "2- Better handling of missing values ,Faster – optimized for multi-threading/processing.uses the gradients of different cuts to select the next cut, but XGBoost also uses the hessian, or second derivative, in its ranking of cuts. Computing this next derivative comes at a slight cost, but it also allows a greater estimation of the cut to use.                        \n",
    "3-CatBoost determines different categories automatically with no need for preprocessing and is designed for categorical data and is known to have the best performance on it"
   ]
  },
  {
   "cell_type": "code",
   "execution_count": null,
   "metadata": {},
   "outputs": [],
   "source": []
  }
 ],
 "metadata": {
  "colab": {
   "collapsed_sections": [],
   "name": "assi 4.ipynb",
   "provenance": []
  },
  "kernelspec": {
   "display_name": "Python 3",
   "language": "python",
   "name": "python3"
  },
  "language_info": {
   "codemirror_mode": {
    "name": "ipython",
    "version": 3
   },
   "file_extension": ".py",
   "mimetype": "text/x-python",
   "name": "python",
   "nbconvert_exporter": "python",
   "pygments_lexer": "ipython3",
   "version": "3.8.5"
  },
  "widgets": {
   "application/vnd.jupyter.widget-state+json": {
    "02a185c0fbc943179e03470085fc2df6": {
     "model_module": "@jupyter-widgets/controls",
     "model_module_version": "1.5.0",
     "model_name": "DescriptionStyleModel",
     "state": {
      "_model_module": "@jupyter-widgets/controls",
      "_model_module_version": "1.5.0",
      "_model_name": "DescriptionStyleModel",
      "_view_count": null,
      "_view_module": "@jupyter-widgets/base",
      "_view_module_version": "1.2.0",
      "_view_name": "StyleView",
      "description_width": ""
     }
    },
    "07eafde1ea06491aa9f8d6dc1ecfd16c": {
     "model_module": "@jupyter-widgets/base",
     "model_module_version": "1.2.0",
     "model_name": "LayoutModel",
     "state": {
      "_model_module": "@jupyter-widgets/base",
      "_model_module_version": "1.2.0",
      "_model_name": "LayoutModel",
      "_view_count": null,
      "_view_module": "@jupyter-widgets/base",
      "_view_module_version": "1.2.0",
      "_view_name": "LayoutView",
      "align_content": null,
      "align_items": null,
      "align_self": null,
      "border": null,
      "bottom": null,
      "display": null,
      "flex": null,
      "flex_flow": null,
      "grid_area": null,
      "grid_auto_columns": null,
      "grid_auto_flow": null,
      "grid_auto_rows": null,
      "grid_column": null,
      "grid_gap": null,
      "grid_row": null,
      "grid_template_areas": null,
      "grid_template_columns": null,
      "grid_template_rows": null,
      "height": null,
      "justify_content": null,
      "justify_items": null,
      "left": null,
      "margin": null,
      "max_height": null,
      "max_width": null,
      "min_height": null,
      "min_width": null,
      "object_fit": null,
      "object_position": null,
      "order": null,
      "overflow": null,
      "overflow_x": null,
      "overflow_y": null,
      "padding": null,
      "right": null,
      "top": null,
      "visibility": null,
      "width": null
     }
    },
    "0c1271eae7cb4934bca6949108e9693d": {
     "model_module": "@jupyter-widgets/controls",
     "model_module_version": "1.5.0",
     "model_name": "HBoxModel",
     "state": {
      "_dom_classes": [],
      "_model_module": "@jupyter-widgets/controls",
      "_model_module_version": "1.5.0",
      "_model_name": "HBoxModel",
      "_view_count": null,
      "_view_module": "@jupyter-widgets/controls",
      "_view_module_version": "1.5.0",
      "_view_name": "HBoxView",
      "box_style": "",
      "children": [
       "IPY_MODEL_8f67bfca15bb41c89f70280f45bf01df",
       "IPY_MODEL_426988bcad57411d97ab8d62a8ff33ae",
       "IPY_MODEL_c08060a7a0784737bfcacb06e202aee7"
      ],
      "layout": "IPY_MODEL_bf52723f45094ff684436eb5e40ec5a1"
     }
    },
    "0dca648f9c314dd7bb4072224b721795": {
     "model_module": "@jupyter-widgets/controls",
     "model_module_version": "1.5.0",
     "model_name": "HTMLModel",
     "state": {
      "_dom_classes": [],
      "_model_module": "@jupyter-widgets/controls",
      "_model_module_version": "1.5.0",
      "_model_name": "HTMLModel",
      "_view_count": null,
      "_view_module": "@jupyter-widgets/controls",
      "_view_module_version": "1.5.0",
      "_view_name": "HTMLView",
      "description": "",
      "description_tooltip": null,
      "layout": "IPY_MODEL_475f3f96a64b4f6190025009312b42d9",
      "placeholder": "​",
      "style": "IPY_MODEL_d4eccd96866e4c92bc20609e200bb25d",
      "value": "100%"
     }
    },
    "1c7ea9b00a2b4e59a55513f9c8d44777": {
     "model_module": "@jupyter-widgets/controls",
     "model_module_version": "1.5.0",
     "model_name": "DescriptionStyleModel",
     "state": {
      "_model_module": "@jupyter-widgets/controls",
      "_model_module_version": "1.5.0",
      "_model_name": "DescriptionStyleModel",
      "_view_count": null,
      "_view_module": "@jupyter-widgets/base",
      "_view_module_version": "1.2.0",
      "_view_name": "StyleView",
      "description_width": ""
     }
    },
    "2b3f235094bd43609a2daba9c0552e03": {
     "model_module": "@jupyter-widgets/controls",
     "model_module_version": "1.5.0",
     "model_name": "HTMLModel",
     "state": {
      "_dom_classes": [],
      "_model_module": "@jupyter-widgets/controls",
      "_model_module_version": "1.5.0",
      "_model_name": "HTMLModel",
      "_view_count": null,
      "_view_module": "@jupyter-widgets/controls",
      "_view_module_version": "1.5.0",
      "_view_name": "HTMLView",
      "description": "",
      "description_tooltip": null,
      "layout": "IPY_MODEL_4e532ba29a944b94a94e3b5d08b764f9",
      "placeholder": "​",
      "style": "IPY_MODEL_b88c53b42ed044aabbd2c8e61e8c48bc",
      "value": " 7360/7360 [00:00&lt;00:00, 27803.61it/s]"
     }
    },
    "2f22be4d122c4d2d8b0bddcc8e466000": {
     "model_module": "@jupyter-widgets/base",
     "model_module_version": "1.2.0",
     "model_name": "LayoutModel",
     "state": {
      "_model_module": "@jupyter-widgets/base",
      "_model_module_version": "1.2.0",
      "_model_name": "LayoutModel",
      "_view_count": null,
      "_view_module": "@jupyter-widgets/base",
      "_view_module_version": "1.2.0",
      "_view_name": "LayoutView",
      "align_content": null,
      "align_items": null,
      "align_self": null,
      "border": null,
      "bottom": null,
      "display": null,
      "flex": null,
      "flex_flow": null,
      "grid_area": null,
      "grid_auto_columns": null,
      "grid_auto_flow": null,
      "grid_auto_rows": null,
      "grid_column": null,
      "grid_gap": null,
      "grid_row": null,
      "grid_template_areas": null,
      "grid_template_columns": null,
      "grid_template_rows": null,
      "height": null,
      "justify_content": null,
      "justify_items": null,
      "left": null,
      "margin": null,
      "max_height": null,
      "max_width": null,
      "min_height": null,
      "min_width": null,
      "object_fit": null,
      "object_position": null,
      "order": null,
      "overflow": null,
      "overflow_x": null,
      "overflow_y": null,
      "padding": null,
      "right": null,
      "top": null,
      "visibility": null,
      "width": null
     }
    },
    "38614e7a80664331b1d8264dd8cfb2b8": {
     "model_module": "@jupyter-widgets/controls",
     "model_module_version": "1.5.0",
     "model_name": "ProgressStyleModel",
     "state": {
      "_model_module": "@jupyter-widgets/controls",
      "_model_module_version": "1.5.0",
      "_model_name": "ProgressStyleModel",
      "_view_count": null,
      "_view_module": "@jupyter-widgets/base",
      "_view_module_version": "1.2.0",
      "_view_name": "StyleView",
      "bar_color": null,
      "description_width": ""
     }
    },
    "3f7a76dc356e46129cf8247bf241ce04": {
     "model_module": "@jupyter-widgets/base",
     "model_module_version": "1.2.0",
     "model_name": "LayoutModel",
     "state": {
      "_model_module": "@jupyter-widgets/base",
      "_model_module_version": "1.2.0",
      "_model_name": "LayoutModel",
      "_view_count": null,
      "_view_module": "@jupyter-widgets/base",
      "_view_module_version": "1.2.0",
      "_view_name": "LayoutView",
      "align_content": null,
      "align_items": null,
      "align_self": null,
      "border": null,
      "bottom": null,
      "display": null,
      "flex": null,
      "flex_flow": null,
      "grid_area": null,
      "grid_auto_columns": null,
      "grid_auto_flow": null,
      "grid_auto_rows": null,
      "grid_column": null,
      "grid_gap": null,
      "grid_row": null,
      "grid_template_areas": null,
      "grid_template_columns": null,
      "grid_template_rows": null,
      "height": null,
      "justify_content": null,
      "justify_items": null,
      "left": null,
      "margin": null,
      "max_height": null,
      "max_width": null,
      "min_height": null,
      "min_width": null,
      "object_fit": null,
      "object_position": null,
      "order": null,
      "overflow": null,
      "overflow_x": null,
      "overflow_y": null,
      "padding": null,
      "right": null,
      "top": null,
      "visibility": null,
      "width": null
     }
    },
    "426988bcad57411d97ab8d62a8ff33ae": {
     "model_module": "@jupyter-widgets/controls",
     "model_module_version": "1.5.0",
     "model_name": "FloatProgressModel",
     "state": {
      "_dom_classes": [],
      "_model_module": "@jupyter-widgets/controls",
      "_model_module_version": "1.5.0",
      "_model_name": "FloatProgressModel",
      "_view_count": null,
      "_view_module": "@jupyter-widgets/controls",
      "_view_module_version": "1.5.0",
      "_view_name": "ProgressView",
      "bar_style": "success",
      "description": "",
      "description_tooltip": null,
      "layout": "IPY_MODEL_2f22be4d122c4d2d8b0bddcc8e466000",
      "max": 7627,
      "min": 0,
      "orientation": "horizontal",
      "style": "IPY_MODEL_38614e7a80664331b1d8264dd8cfb2b8",
      "value": 7627
     }
    },
    "475f3f96a64b4f6190025009312b42d9": {
     "model_module": "@jupyter-widgets/base",
     "model_module_version": "1.2.0",
     "model_name": "LayoutModel",
     "state": {
      "_model_module": "@jupyter-widgets/base",
      "_model_module_version": "1.2.0",
      "_model_name": "LayoutModel",
      "_view_count": null,
      "_view_module": "@jupyter-widgets/base",
      "_view_module_version": "1.2.0",
      "_view_name": "LayoutView",
      "align_content": null,
      "align_items": null,
      "align_self": null,
      "border": null,
      "bottom": null,
      "display": null,
      "flex": null,
      "flex_flow": null,
      "grid_area": null,
      "grid_auto_columns": null,
      "grid_auto_flow": null,
      "grid_auto_rows": null,
      "grid_column": null,
      "grid_gap": null,
      "grid_row": null,
      "grid_template_areas": null,
      "grid_template_columns": null,
      "grid_template_rows": null,
      "height": null,
      "justify_content": null,
      "justify_items": null,
      "left": null,
      "margin": null,
      "max_height": null,
      "max_width": null,
      "min_height": null,
      "min_width": null,
      "object_fit": null,
      "object_position": null,
      "order": null,
      "overflow": null,
      "overflow_x": null,
      "overflow_y": null,
      "padding": null,
      "right": null,
      "top": null,
      "visibility": null,
      "width": null
     }
    },
    "484ed64b6b3e4673a7814189dce0a04d": {
     "model_module": "@jupyter-widgets/controls",
     "model_module_version": "1.5.0",
     "model_name": "ProgressStyleModel",
     "state": {
      "_model_module": "@jupyter-widgets/controls",
      "_model_module_version": "1.5.0",
      "_model_name": "ProgressStyleModel",
      "_view_count": null,
      "_view_module": "@jupyter-widgets/base",
      "_view_module_version": "1.2.0",
      "_view_name": "StyleView",
      "bar_color": null,
      "description_width": ""
     }
    },
    "4e532ba29a944b94a94e3b5d08b764f9": {
     "model_module": "@jupyter-widgets/base",
     "model_module_version": "1.2.0",
     "model_name": "LayoutModel",
     "state": {
      "_model_module": "@jupyter-widgets/base",
      "_model_module_version": "1.2.0",
      "_model_name": "LayoutModel",
      "_view_count": null,
      "_view_module": "@jupyter-widgets/base",
      "_view_module_version": "1.2.0",
      "_view_name": "LayoutView",
      "align_content": null,
      "align_items": null,
      "align_self": null,
      "border": null,
      "bottom": null,
      "display": null,
      "flex": null,
      "flex_flow": null,
      "grid_area": null,
      "grid_auto_columns": null,
      "grid_auto_flow": null,
      "grid_auto_rows": null,
      "grid_column": null,
      "grid_gap": null,
      "grid_row": null,
      "grid_template_areas": null,
      "grid_template_columns": null,
      "grid_template_rows": null,
      "height": null,
      "justify_content": null,
      "justify_items": null,
      "left": null,
      "margin": null,
      "max_height": null,
      "max_width": null,
      "min_height": null,
      "min_width": null,
      "object_fit": null,
      "object_position": null,
      "order": null,
      "overflow": null,
      "overflow_x": null,
      "overflow_y": null,
      "padding": null,
      "right": null,
      "top": null,
      "visibility": null,
      "width": null
     }
    },
    "8cc2e69b7a3b47b09140d1ad3e5fef42": {
     "model_module": "@jupyter-widgets/base",
     "model_module_version": "1.2.0",
     "model_name": "LayoutModel",
     "state": {
      "_model_module": "@jupyter-widgets/base",
      "_model_module_version": "1.2.0",
      "_model_name": "LayoutModel",
      "_view_count": null,
      "_view_module": "@jupyter-widgets/base",
      "_view_module_version": "1.2.0",
      "_view_name": "LayoutView",
      "align_content": null,
      "align_items": null,
      "align_self": null,
      "border": null,
      "bottom": null,
      "display": null,
      "flex": null,
      "flex_flow": null,
      "grid_area": null,
      "grid_auto_columns": null,
      "grid_auto_flow": null,
      "grid_auto_rows": null,
      "grid_column": null,
      "grid_gap": null,
      "grid_row": null,
      "grid_template_areas": null,
      "grid_template_columns": null,
      "grid_template_rows": null,
      "height": null,
      "justify_content": null,
      "justify_items": null,
      "left": null,
      "margin": null,
      "max_height": null,
      "max_width": null,
      "min_height": null,
      "min_width": null,
      "object_fit": null,
      "object_position": null,
      "order": null,
      "overflow": null,
      "overflow_x": null,
      "overflow_y": null,
      "padding": null,
      "right": null,
      "top": null,
      "visibility": null,
      "width": null
     }
    },
    "8f67bfca15bb41c89f70280f45bf01df": {
     "model_module": "@jupyter-widgets/controls",
     "model_module_version": "1.5.0",
     "model_name": "HTMLModel",
     "state": {
      "_dom_classes": [],
      "_model_module": "@jupyter-widgets/controls",
      "_model_module_version": "1.5.0",
      "_model_name": "HTMLModel",
      "_view_count": null,
      "_view_module": "@jupyter-widgets/controls",
      "_view_module_version": "1.5.0",
      "_view_name": "HTMLView",
      "description": "",
      "description_tooltip": null,
      "layout": "IPY_MODEL_07eafde1ea06491aa9f8d6dc1ecfd16c",
      "placeholder": "​",
      "style": "IPY_MODEL_1c7ea9b00a2b4e59a55513f9c8d44777",
      "value": "100%"
     }
    },
    "9eb74a69a7c249f79a4f961e9edf7876": {
     "model_module": "@jupyter-widgets/controls",
     "model_module_version": "1.5.0",
     "model_name": "FloatProgressModel",
     "state": {
      "_dom_classes": [],
      "_model_module": "@jupyter-widgets/controls",
      "_model_module_version": "1.5.0",
      "_model_name": "FloatProgressModel",
      "_view_count": null,
      "_view_module": "@jupyter-widgets/controls",
      "_view_module_version": "1.5.0",
      "_view_name": "ProgressView",
      "bar_style": "success",
      "description": "",
      "description_tooltip": null,
      "layout": "IPY_MODEL_8cc2e69b7a3b47b09140d1ad3e5fef42",
      "max": 7360,
      "min": 0,
      "orientation": "horizontal",
      "style": "IPY_MODEL_484ed64b6b3e4673a7814189dce0a04d",
      "value": 7360
     }
    },
    "9fccb439ee8c47618be76b959d67e9b9": {
     "model_module": "@jupyter-widgets/controls",
     "model_module_version": "1.5.0",
     "model_name": "HBoxModel",
     "state": {
      "_dom_classes": [],
      "_model_module": "@jupyter-widgets/controls",
      "_model_module_version": "1.5.0",
      "_model_name": "HBoxModel",
      "_view_count": null,
      "_view_module": "@jupyter-widgets/controls",
      "_view_module_version": "1.5.0",
      "_view_name": "HBoxView",
      "box_style": "",
      "children": [
       "IPY_MODEL_0dca648f9c314dd7bb4072224b721795",
       "IPY_MODEL_9eb74a69a7c249f79a4f961e9edf7876",
       "IPY_MODEL_2b3f235094bd43609a2daba9c0552e03"
      ],
      "layout": "IPY_MODEL_3f7a76dc356e46129cf8247bf241ce04"
     }
    },
    "b88c53b42ed044aabbd2c8e61e8c48bc": {
     "model_module": "@jupyter-widgets/controls",
     "model_module_version": "1.5.0",
     "model_name": "DescriptionStyleModel",
     "state": {
      "_model_module": "@jupyter-widgets/controls",
      "_model_module_version": "1.5.0",
      "_model_name": "DescriptionStyleModel",
      "_view_count": null,
      "_view_module": "@jupyter-widgets/base",
      "_view_module_version": "1.2.0",
      "_view_name": "StyleView",
      "description_width": ""
     }
    },
    "bf52723f45094ff684436eb5e40ec5a1": {
     "model_module": "@jupyter-widgets/base",
     "model_module_version": "1.2.0",
     "model_name": "LayoutModel",
     "state": {
      "_model_module": "@jupyter-widgets/base",
      "_model_module_version": "1.2.0",
      "_model_name": "LayoutModel",
      "_view_count": null,
      "_view_module": "@jupyter-widgets/base",
      "_view_module_version": "1.2.0",
      "_view_name": "LayoutView",
      "align_content": null,
      "align_items": null,
      "align_self": null,
      "border": null,
      "bottom": null,
      "display": null,
      "flex": null,
      "flex_flow": null,
      "grid_area": null,
      "grid_auto_columns": null,
      "grid_auto_flow": null,
      "grid_auto_rows": null,
      "grid_column": null,
      "grid_gap": null,
      "grid_row": null,
      "grid_template_areas": null,
      "grid_template_columns": null,
      "grid_template_rows": null,
      "height": null,
      "justify_content": null,
      "justify_items": null,
      "left": null,
      "margin": null,
      "max_height": null,
      "max_width": null,
      "min_height": null,
      "min_width": null,
      "object_fit": null,
      "object_position": null,
      "order": null,
      "overflow": null,
      "overflow_x": null,
      "overflow_y": null,
      "padding": null,
      "right": null,
      "top": null,
      "visibility": null,
      "width": null
     }
    },
    "c08060a7a0784737bfcacb06e202aee7": {
     "model_module": "@jupyter-widgets/controls",
     "model_module_version": "1.5.0",
     "model_name": "HTMLModel",
     "state": {
      "_dom_classes": [],
      "_model_module": "@jupyter-widgets/controls",
      "_model_module_version": "1.5.0",
      "_model_name": "HTMLModel",
      "_view_count": null,
      "_view_module": "@jupyter-widgets/controls",
      "_view_module_version": "1.5.0",
      "_view_name": "HTMLView",
      "description": "",
      "description_tooltip": null,
      "layout": "IPY_MODEL_cff1a2a630214bc1894243f08aa4cf0a",
      "placeholder": "​",
      "style": "IPY_MODEL_02a185c0fbc943179e03470085fc2df6",
      "value": " 7627/7627 [00:00&lt;00:00, 18613.69it/s]"
     }
    },
    "cff1a2a630214bc1894243f08aa4cf0a": {
     "model_module": "@jupyter-widgets/base",
     "model_module_version": "1.2.0",
     "model_name": "LayoutModel",
     "state": {
      "_model_module": "@jupyter-widgets/base",
      "_model_module_version": "1.2.0",
      "_model_name": "LayoutModel",
      "_view_count": null,
      "_view_module": "@jupyter-widgets/base",
      "_view_module_version": "1.2.0",
      "_view_name": "LayoutView",
      "align_content": null,
      "align_items": null,
      "align_self": null,
      "border": null,
      "bottom": null,
      "display": null,
      "flex": null,
      "flex_flow": null,
      "grid_area": null,
      "grid_auto_columns": null,
      "grid_auto_flow": null,
      "grid_auto_rows": null,
      "grid_column": null,
      "grid_gap": null,
      "grid_row": null,
      "grid_template_areas": null,
      "grid_template_columns": null,
      "grid_template_rows": null,
      "height": null,
      "justify_content": null,
      "justify_items": null,
      "left": null,
      "margin": null,
      "max_height": null,
      "max_width": null,
      "min_height": null,
      "min_width": null,
      "object_fit": null,
      "object_position": null,
      "order": null,
      "overflow": null,
      "overflow_x": null,
      "overflow_y": null,
      "padding": null,
      "right": null,
      "top": null,
      "visibility": null,
      "width": null
     }
    },
    "d4eccd96866e4c92bc20609e200bb25d": {
     "model_module": "@jupyter-widgets/controls",
     "model_module_version": "1.5.0",
     "model_name": "DescriptionStyleModel",
     "state": {
      "_model_module": "@jupyter-widgets/controls",
      "_model_module_version": "1.5.0",
      "_model_name": "DescriptionStyleModel",
      "_view_count": null,
      "_view_module": "@jupyter-widgets/base",
      "_view_module_version": "1.2.0",
      "_view_name": "StyleView",
      "description_width": ""
     }
    }
   }
  }
 },
 "nbformat": 4,
 "nbformat_minor": 5
}
